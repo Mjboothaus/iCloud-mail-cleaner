{
 "cells": [
  {
   "cell_type": "code",
   "execution_count": 1,
   "metadata": {},
   "outputs": [],
   "source": [
    "import re\n",
    "#import sys\n",
    "import imaplib\n",
    "import os\n",
    "import argparse\n",
    "from configobj import ConfigObj\n",
    "from getpass import getpass\n",
    "# import email\n",
    "#from collections import defaultdict\n",
    "from tqdm.notebook import tqdm\n",
    "#import pandas as pd\n",
    "import logging\n",
    "from pathlib import Path"
   ]
  },
  {
   "cell_type": "code",
   "execution_count": 2,
   "metadata": {},
   "outputs": [],
   "source": [
    "# Configure logging\n",
    "logging.basicConfig(filename='icloud-cleaner-oo.log', level=logging.INFO, filemode=\"a\",\n",
    "                    format='%(asctime)s %(levelname)s:%(message)s',\n",
    "                    datefmt='%Y-%m-%d %H:%M:%S')"
   ]
  },
  {
   "cell_type": "code",
   "execution_count": 3,
   "metadata": {},
   "outputs": [],
   "source": [
    "class ICloudCleaner:\n",
    "    def __init__(self, config_file):\n",
    "        self.config = ConfigObj(config_file)\n",
    "        self.email_connection = None\n",
    "        self._ensure_password()\n",
    "        self._connect()\n",
    "        logging.info(\"New cleaning job starting...\")\n",
    "\n",
    "\n",
    "    def _ensure_password(self):\n",
    "        if self.config[\"password\"] == \"\":\n",
    "            self.config[\"password\"] = getpass(\"Enter your email password: \")\n",
    "            logging.info(\"Password obtained from user input.\")\n",
    "        else:\n",
    "            logging.info(\"Using password from config.ini.\")\n",
    "\n",
    "    def _connect(self, mailbox=\"INBOX\"):\n",
    "        try:\n",
    "            self.email_connection = imaplib.IMAP4_SSL(self.config[\"imap_server\"], self.config[\"imap_port\"])\n",
    "            self.email_connection.login(self.config[\"username\"], self.config[\"password\"])\n",
    "            self.email_connection.select(mailbox)\n",
    "            logging.info(f\"Successfully connected to {self.config['username']}@icloud.com - {mailbox}\")\n",
    "        except Exception as e:\n",
    "            logging.error(f\"Failed to connect: {e}\")\n",
    "            raise\n",
    "\n",
    "    def search_emails(self, sender):\n",
    "        try:\n",
    "            _, data = self.email_connection.search(None, f'(FROM \"{sender}\")')\n",
    "            mail_ids = data[0]\n",
    "            return mail_ids.split() if mail_ids else None\n",
    "        except Exception as e:\n",
    "            logging.error(f\"Error searching emails from {sender}: {e}\")\n",
    "            return None\n",
    "\n",
    "    def set_deleted(self, email_uid):\n",
    "        try:\n",
    "            self.email_connection.uid(\"STORE\", bytes(str(email_uid).strip(), \"ascii\"), \"+FLAGS\", \"(\\\\Deleted)\")\n",
    "            logging.info(f\"Email UID {email_uid} marked for deletion.\")\n",
    "        except Exception as e:\n",
    "            logging.error(f\"Error setting email UID {email_uid} as deleted: {e}\")\n",
    "\n",
    "    def fetch_uid(self, email_id):\n",
    "        try:\n",
    "            _, uid_string = self.email_connection.fetch(email_id, \"UID\")\n",
    "            uid_str = [str(x, encoding=\"utf-8\") for x in uid_string]\n",
    "            uid_res = re.search(r\"\\((UID.*?)\\)\", uid_str[0])\n",
    "            return uid_res[1].replace(\"UID\", \"\") if uid_res else None\n",
    "        except Exception as e:\n",
    "            logging.error(f\"Error fetching UID for email ID {email_id}: {e}\")\n",
    "            return None\n",
    "\n",
    "    def clean_mailbox(self, target_emails):\n",
    "        total_emails_count = 0\n",
    "        for target_email in tqdm(target_emails, desc=\"Total emails\", total=len(target_emails)):\n",
    "            if not self.validate_input_email(target_email):\n",
    "                logging.warning(f\"The email '{target_email}' is not valid\")\n",
    "                continue\n",
    "\n",
    "            emails = self.search_emails(target_email)\n",
    "            emails_count = len(emails) if emails else 0\n",
    "            total_deleted_emails = 0\n",
    "\n",
    "            while emails_count > 0:\n",
    "                for idx, e in tqdm(enumerate(emails), total=emails_count, desc=target_email):\n",
    "                    uid = self.fetch_uid(e)\n",
    "                    if uid:\n",
    "                        self.set_deleted(uid)\n",
    "\n",
    "                self.email_connection.expunge()\n",
    "                logging.info(f\"Deleted {emails_count} email(s) for {target_email}\")\n",
    "                emails = self.search_emails(target_email)\n",
    "                emails_count = len(emails) if emails else 0\n",
    "                total_deleted_emails += emails_count\n",
    "\n",
    "            logging.info(f\"Cleanup for {target_email} was successful. Deleted {total_deleted_emails} email(s)\")\n",
    "            total_emails_count += total_deleted_emails\n",
    "\n",
    "        logging.info(f\"The cleanup was successful. Deleted {total_emails_count} email(s)\")\n",
    "        return total_emails_count\n",
    "\n",
    "    @staticmethod\n",
    "    def validate_input_email(email_address):\n",
    "        if re.match(r\"[^@]+@[^@]+\\.[^@]+\", email_address):\n",
    "            return True\n",
    "        else:\n",
    "            logging.warning(f\"Invalid email format: {email_address}\")\n",
    "            return False\n",
    "\n",
    "    @staticmethod\n",
    "    def import_emails_from_file(filename):\n",
    "        if os.path.isfile(filename):\n",
    "            with open(filename, 'r') as file:\n",
    "                emails = file.read().splitlines()\n",
    "                logging.info(f\"Imported {len(emails)} emails from {filename}.\")\n",
    "                return emails\n",
    "        else:\n",
    "            logging.error(f\"The file {filename} doesn't exist.\")\n",
    "            return []"
   ]
  },
  {
   "cell_type": "code",
   "execution_count": 4,
   "metadata": {},
   "outputs": [
    {
     "data": {
      "text/plain": [
       "_StoreAction(option_strings=['--file'], dest='file', nargs=None, const=None, default=None, type=None, choices=None, required=False, help='A file which contains the target emails. Each email should be on a separate line.', metavar=None)"
      ]
     },
     "execution_count": 4,
     "metadata": {},
     "output_type": "execute_result"
    }
   ],
   "source": [
    "parser = argparse.ArgumentParser(description=\"Delete all incoming emails from a sender email address\")\n",
    "parser.add_argument(\"--email\", help=\"The sender whose messages should be deleted\")\n",
    "parser.add_argument(\"--file\", help=\"A file which contains the target emails. Each email should be on a separate line.\")"
   ]
  },
  {
   "cell_type": "code",
   "execution_count": 5,
   "metadata": {},
   "outputs": [],
   "source": [
    "args = parser.parse_args([\"--file\", (Path.cwd() / \"target_email_address.txt\").as_posix()])\n",
    "if args.email is None and args.file is None and not Path(args.file).exists():\n",
    "    print(\"You need to specify a target email or a file. Use --help for details\")"
   ]
  },
  {
   "cell_type": "code",
   "execution_count": 6,
   "metadata": {},
   "outputs": [
    {
     "data": {
      "application/vnd.jupyter.widget-view+json": {
       "model_id": "fb506b4de936401a803f7483bd5c2669",
       "version_major": 2,
       "version_minor": 0
      },
      "text/plain": [
       "Total emails:   0%|          | 0/251 [00:00<?, ?it/s]"
      ]
     },
     "metadata": {},
     "output_type": "display_data"
    },
    {
     "name": "stdout",
     "output_type": "stream",
     "text": [
      "Total emails deleted: 0\n"
     ]
    }
   ],
   "source": [
    "try:\n",
    "    cleaner = ICloudCleaner(\"config.ini\")\n",
    "    target_emails = cleaner.import_emails_from_file(args.file) if args.file else [args.email]\n",
    "    total_emails_count = cleaner.clean_mailbox(target_emails)\n",
    "    logging.info(f\"Total emails deleted: {total_emails_count}\")\n",
    "    print(f\"Total emails deleted: {total_emails_count}\")\n",
    "except Exception as e:\n",
    "    logging.exception(f\"An error occurred during the cleaning process: {e}\")"
   ]
  }
 ],
 "metadata": {
  "kernelspec": {
   "display_name": ".venv",
   "language": "python",
   "name": "python3"
  },
  "language_info": {
   "codemirror_mode": {
    "name": "ipython",
    "version": 3
   },
   "file_extension": ".py",
   "mimetype": "text/x-python",
   "name": "python",
   "nbconvert_exporter": "python",
   "pygments_lexer": "ipython3",
   "version": "3.10.10"
  }
 },
 "nbformat": 4,
 "nbformat_minor": 2
}
