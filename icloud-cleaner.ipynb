{
 "cells": [
  {
   "cell_type": "code",
   "execution_count": null,
   "metadata": {},
   "outputs": [],
   "source": [
    "from notebook_helper import notebook_add_parent_dir_to_path, start_execution_time, execution_time\n",
    "\n",
    "notebook_add_parent_dir_to_path()"
   ]
  },
  {
   "cell_type": "code",
   "execution_count": null,
   "metadata": {},
   "outputs": [],
   "source": [
    "from tqdm.notebook import tqdm"
   ]
  },
  {
   "cell_type": "code",
   "execution_count": null,
   "metadata": {},
   "outputs": [],
   "source": [
    "import re\n",
    "import sys\n",
    "import imaplib\n",
    "import os.path\n",
    "import argparse\n",
    "from configobj import ConfigObj\n",
    "from getpass import getpass\n",
    "\n",
    "import email\n",
    "from collections import defaultdict\n",
    "import pandas as pd"
   ]
  },
  {
   "cell_type": "code",
   "execution_count": null,
   "metadata": {},
   "outputs": [],
   "source": [
    "start_time = start_execution_time()"
   ]
  },
  {
   "cell_type": "markdown",
   "metadata": {},
   "source": [
    "See also this article https://towardsdatascience.com/email-automation-analytics-and-visualization-53b022e0f9a0"
   ]
  },
  {
   "cell_type": "code",
   "execution_count": null,
   "metadata": {},
   "outputs": [],
   "source": [
    "def connect(config, mailbox=\"INBOX\"):\n",
    "    email_connection = imaplib.IMAP4_SSL(config[\"imap_server\"], config[\"imap_port\"])\n",
    "    email_connection.login(config[\"username\"], config[\"password\"])\n",
    "    email_connection.select(mailbox)\n",
    "    print(f\"Successfully connected to {config['username']}@icloud.com - {mailbox}\")\n",
    "    return email_connection\n",
    "\n",
    "\n",
    "def search_emails(email_connection, sender):\n",
    "    _, data = email_connection.search(None, f'(FROM \"{sender}\")')\n",
    "    # Split the email identifiers in an array\n",
    "    mail_ids = data[0]\n",
    "    if mail_ids is None:\n",
    "        return None\n",
    "    else:\n",
    "        return mail_ids.split()\n",
    "\n",
    "\n",
    "# Add the deleted flag to an email\n",
    "def set_deleted(email_connection, email_uid):\n",
    "    # print(bytes(str(email_uid).strip(), 'ascii'))\n",
    "    email_connection.uid(\"STORE\", bytes(str(email_uid).strip(), \"ascii\"), \"+FLAGS\", \"(\\\\Deleted)\")\n",
    "\n",
    "\n",
    "def fetch_uid(email_connection, email_id):\n",
    "    try:\n",
    "        _, uid_string = email_connection.fetch(email_id, \"UID\")\n",
    "    except:\n",
    "        raise ConnectionError\n",
    "    try:\n",
    "        uid_str = [str(x, encoding=\"utf-8\") for x in uid_string]\n",
    "    except Exception as e:\n",
    "        print(e)\n",
    "        return None\n",
    "    # print(\"\".join(uid_str))\n",
    "    uid_res = re.search(r\"\\((UID.*?)\\)\", uid_str[0])\n",
    "    return uid_res[1].replace(\"UID\", \"\") if (uid_res != None) else None\n",
    "\n",
    "\n",
    "def parse_args():\n",
    "    parser = argparse.ArgumentParser(\n",
    "        description=\"Delete all incoming emails from a sender email address\"\n",
    "    )\n",
    "    parser.add_argument(\"--email\", help=\"The sender whose messages should be deleted\")\n",
    "    parser.add_argument(\n",
    "        \"--file\",\n",
    "        help=\"A file which contains the target emails. Each email should be on a separate line.\",\n",
    "    )\n",
    "    return parser.parse_args()\n",
    "\n",
    "\n",
    "def validate_input_email(email):\n",
    "    return re.match(r\"[^@]+@[^@]+\\.[^@]+\", email)\n",
    "\n",
    "\n",
    "def verify_cli_args(args):\n",
    "    if args.email is None and args.file is None:\n",
    "        print(\"You need to specify a target email or a file. Use --help for details\")\n",
    "        sys.exit()\n",
    "\n",
    "\n",
    "def import_emails_from_file(filename):\n",
    "    if os.path.isfile(filename):\n",
    "        return open(filename).read().split(\"\\n\")\n",
    "    else:\n",
    "        print(f\"The file {filename} doesn't exist\")"
   ]
  },
  {
   "cell_type": "code",
   "execution_count": null,
   "metadata": {},
   "outputs": [],
   "source": [
    "# args = parse_args()\n",
    "# verify_cli_args(args)\n",
    "args = None"
   ]
  },
  {
   "cell_type": "code",
   "execution_count": null,
   "metadata": {},
   "outputs": [],
   "source": [
    "config = ConfigObj(\"config.ini\")"
   ]
  },
  {
   "cell_type": "code",
   "execution_count": null,
   "metadata": {},
   "outputs": [],
   "source": [
    "if config[\"password\"] == \"\":\n",
    "    config[\"password\"] = getpass(\"Enter your email password: \")\n",
    "else:\n",
    "    print(\"Using password from config.ini\")"
   ]
  },
  {
   "cell_type": "code",
   "execution_count": null,
   "metadata": {},
   "outputs": [],
   "source": [
    "email_connection = connect(config)"
   ]
  },
  {
   "cell_type": "code",
   "execution_count": null,
   "metadata": {},
   "outputs": [],
   "source": [
    "email_connection.check()[0]"
   ]
  },
  {
   "cell_type": "code",
   "execution_count": null,
   "metadata": {},
   "outputs": [],
   "source": [
    "def count_by_email_address():\n",
    "    # NOTE: This function doesn't work\n",
    "    print(\"Connecting to \" + config[\"username\"] + \"@icloud.com...\")\n",
    "    email_connection = connect(config)\n",
    "    all_email = []\n",
    "    for target_email in email_connection.search(None, \"ALL\"):\n",
    "        emails = search_emails(email_connection, target_email)\n",
    "        if emails is None:\n",
    "            n_email = 0\n",
    "        else:\n",
    "            n_email = len(emails)\n",
    "        all_email.append([target_email, n_email])\n",
    "    return all_email"
   ]
  },
  {
   "cell_type": "code",
   "execution_count": null,
   "metadata": {},
   "outputs": [],
   "source": [
    "# all_emails = count_by_email_address()"
   ]
  },
  {
   "cell_type": "code",
   "execution_count": null,
   "metadata": {},
   "outputs": [],
   "source": [
    "def count_emails():\n",
    "    imaplib._MAXLINE = 10000000\n",
    "    print(\"Connecting to \" + config[\"username\"] + \"@icloud.com...\")\n",
    "    email_connection = connect(config)\n",
    "    email_connection.select(\"INBOX\")\n",
    "    result, data = email_connection.uid(\"search\", None, \"ALL\")\n",
    "    if result == \"OK\":\n",
    "        email_ids = data[0].split()\n",
    "        print(f\"{len(email_ids)}\")\n",
    "        return len(email_ids)\n",
    "    else:\n",
    "        return None"
   ]
  },
  {
   "cell_type": "code",
   "execution_count": null,
   "metadata": {},
   "outputs": [],
   "source": [
    "count_emails()"
   ]
  },
  {
   "cell_type": "code",
   "execution_count": null,
   "metadata": {},
   "outputs": [],
   "source": [
    "def count_emails_by_address():\n",
    "    imaplib._MAXLINE = 10000000\n",
    "    print(\"Connecting to \" + config[\"username\"] + \"@icloud.com...\")\n",
    "    email_connection = connect(config)\n",
    "    # Initialize a dictionary to store email counts\n",
    "    email_counts = defaultdict(int)\n",
    "\n",
    "    # Select the mailbox you want to delete in\n",
    "    # If you want SPAM, use \"INBOX.SPAM\"\n",
    "    email_connection.select(\"INBOX\")\n",
    "\n",
    "    # Search for specific mail\n",
    "    result, data = email_connection.uid(\"search\", None, \"ALL\")\n",
    "\n",
    "    # If there is no email, exit\n",
    "    error_count = 0\n",
    "    if result == \"OK\":\n",
    "        # Get the list of email IDs\n",
    "        email_ids = data[0].split()\n",
    "        for e_id in tqdm(email_ids, desc=\"Retrieving all emails\", total=len(email_ids)):\n",
    "            # Fetch the email body\n",
    "            result, email_data = email_connection.uid(\"fetch\", e_id, \"(BODY[HEADER.FIELDS (FROM)])\")\n",
    "            try:\n",
    "                raw_email = email_data[0][1]\n",
    "                email_message = email.message_from_bytes(raw_email)\n",
    "                from_addr = email.utils.parseaddr(email_message[\"From\"])[1]\n",
    "                # Increment the count for this email address\n",
    "                email_counts[from_addr] += 1\n",
    "            except Exception as e:\n",
    "                print(f\"{e}\")\n",
    "                # print(f\"ERROR: Unable to convert from bytes - {raw_email} \")\n",
    "                error_count += 1\n",
    "        return email_counts, error_count\n",
    "    else:\n",
    "        return None"
   ]
  },
  {
   "cell_type": "code",
   "execution_count": null,
   "metadata": {},
   "outputs": [],
   "source": [
    "# NOTE - this is NOT working - seems to \"crash\" although no exception after ~2.5K emails out of 100K emails\n",
    "# email_counts = count_emails_by_address()"
   ]
  },
  {
   "cell_type": "code",
   "execution_count": null,
   "metadata": {},
   "outputs": [],
   "source": [
    "# email_counts_df = pd.DataFrame(email_counts)"
   ]
  },
  {
   "cell_type": "code",
   "execution_count": null,
   "metadata": {},
   "outputs": [],
   "source": [
    "# email_counts_df.to_csv(\"email_counts.csv\")"
   ]
  },
  {
   "cell_type": "code",
   "execution_count": null,
   "metadata": {},
   "outputs": [],
   "source": [
    "def connect_and_clean(config, target_emails, mailbox=\"INBOX\"):\n",
    "    imaplib._MAXLINE = 10000000\n",
    "    print(\"Connecting to \" + config[\"username\"] + \"@icloud.com...\")\n",
    "    email_connection = connect(config, mailbox)\n",
    "\n",
    "    total_emails_count = 0\n",
    "    for iemail, target_email in enumerate(\n",
    "        tqdm(target_emails, desc=\"Total emails\", total=len(target_emails))\n",
    "    ):\n",
    "        if not validate_input_email(target_email):\n",
    "            print(f\"The email '{target_email}' is not valid\")\n",
    "            continue\n",
    "\n",
    "        if email_connection.check()[0] == \"OK\":\n",
    "            emails = search_emails(email_connection, target_email)\n",
    "            if emails is not None:\n",
    "                emails_count = str(len(emails))\n",
    "            else:\n",
    "                emails_count = 0\n",
    "            total_emails_for_target = int(emails_count)\n",
    "            total_deleted_emails = 0\n",
    "\n",
    "            while int(emails_count) > 0:\n",
    "                # print(f\"Found {emails_count} email(s) for {target_email}\")\n",
    "\n",
    "                for idx, e in tqdm(enumerate(emails), total=int(emails_count), desc=target_email):\n",
    "                    # TODO: Add progress bar here - see\n",
    "\n",
    "                    # The fetching of the email UID is required\n",
    "                    # since the email ID may change between operations\n",
    "                    # as specified by the IMAP standard\n",
    "                    uid = fetch_uid(email_connection, e)\n",
    "                    if uid is None:\n",
    "                        print(\n",
    "                            f\"Email {str(total_deleted_emails + idx + 1)}/{str(total_emails_for_target)} was not valid\"\n",
    "                        )\n",
    "\n",
    "                    else:\n",
    "                        # print(\n",
    "                        #    f\"Deleted email {str(total_deleted_emails + idx + 1)}/{str(total_emails_for_target)}\"\n",
    "                        # )\n",
    "                        try:\n",
    "                            set_deleted(email_connection, uid)\n",
    "                        except Exception as e:\n",
    "                            print(e)\n",
    "                            continue\n",
    "                # Confirm the deletion of the messages\n",
    "                email_connection.expunge()\n",
    "\n",
    "                print(f\"Deleted {emails_count} email(s) for {target_email}\")\n",
    "                print(\"Checking for remaining emails...\")\n",
    "\n",
    "                # Verify if there are any emails left on the server for\n",
    "                # the target address. This is required to circumvent the\n",
    "                # chunking of the search results by iCloud\n",
    "                emails = search_emails(email_connection, target_email)\n",
    "                if emails is not None:\n",
    "                    emails_count = str(len(emails))\n",
    "                else:\n",
    "                    emails_count = 0\n",
    "                total_deleted_emails = total_emails_for_target\n",
    "                total_emails_for_target += int(emails_count)\n",
    "\n",
    "            print(\n",
    "                f\"{iemail}# Cleanup for {target_email} was successful. Deleted {str(total_emails_for_target)} email(s)\"\n",
    "            )\n",
    "            total_emails_count += total_emails_for_target\n",
    "\n",
    "    print(f\"The cleanup was successful. Deleted {str(total_emails_count)} email(s)\")\n",
    "\n",
    "    # Close the mailbox and logout\n",
    "    email_connection.close()\n",
    "    email_connection.logout()\n",
    "    return total_emails_count"
   ]
  },
  {
   "cell_type": "code",
   "execution_count": null,
   "metadata": {},
   "outputs": [],
   "source": [
    "# if args.email is None:\n",
    "#     target_emails = import_emails_from_file(args.file)\n",
    "# else:\n",
    "#     target_emails = [args.email]"
   ]
  },
  {
   "cell_type": "code",
   "execution_count": null,
   "metadata": {},
   "outputs": [],
   "source": [
    "TARGET_EMAILS_FILE = \"target_email_address.txt\"\n",
    "target_emails = []\n",
    "target_emails = list(dict.fromkeys(import_emails_from_file(TARGET_EMAILS_FILE)))\n",
    "total_emails_count = connect_and_clean(config, target_emails)"
   ]
  },
  {
   "cell_type": "code",
   "execution_count": null,
   "metadata": {},
   "outputs": [],
   "source": [
    "total_emails_count"
   ]
  },
  {
   "cell_type": "markdown",
   "metadata": {},
   "source": []
  },
  {
   "cell_type": "code",
   "execution_count": null,
   "metadata": {},
   "outputs": [],
   "source": [
    "#! pdm list | grep tqdm\n",
    "# tqdm                     │ 4.66.1"
   ]
  },
  {
   "cell_type": "code",
   "execution_count": null,
   "metadata": {},
   "outputs": [],
   "source": [
    "!pdm list | grep -E 'jupyter|notebook'"
   ]
  },
  {
   "cell_type": "code",
   "execution_count": null,
   "metadata": {},
   "outputs": [],
   "source": [
    "disp_md(f\"INFO: Notebook execution started at: {start_time}\\n\")\n",
    "exec_time = execution_time(start_time)"
   ]
  }
 ],
 "metadata": {
  "kernelspec": {
   "display_name": ".venv",
   "language": "python",
   "name": "python3"
  },
  "language_info": {
   "codemirror_mode": {
    "name": "ipython",
    "version": 3
   },
   "file_extension": ".py",
   "mimetype": "text/x-python",
   "name": "python",
   "nbconvert_exporter": "python",
   "pygments_lexer": "ipython3",
   "version": "3.10.10"
  },
  "orig_nbformat": 4
 },
 "nbformat": 4,
 "nbformat_minor": 2
}
