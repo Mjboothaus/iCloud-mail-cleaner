{
 "cells": [
  {
   "cell_type": "code",
   "execution_count": 1,
   "metadata": {},
   "outputs": [
    {
     "name": "stdout",
     "output_type": "stream",
     "text": [
      "Added parent directory /Users/mjboothaus/code/github/mjboothaus to PYTHONPATH\n"
     ]
    }
   ],
   "source": [
    "from notebook_helper import notebook_add_parent_dir_to_path, start_execution_time, execution_time\n",
    "\n",
    "notebook_add_parent_dir_to_path()"
   ]
  },
  {
   "cell_type": "code",
   "execution_count": 2,
   "metadata": {},
   "outputs": [],
   "source": [
    "from tqdm.notebook import tqdm"
   ]
  },
  {
   "cell_type": "code",
   "execution_count": 3,
   "metadata": {},
   "outputs": [],
   "source": [
    "import re\n",
    "import sys\n",
    "import imaplib\n",
    "import os.path\n",
    "import argparse\n",
    "from configobj import ConfigObj\n",
    "from getpass import getpass\n",
    "\n",
    "import email\n",
    "from collections import defaultdict\n",
    "import pandas as pd"
   ]
  },
  {
   "cell_type": "code",
   "execution_count": 4,
   "metadata": {},
   "outputs": [
    {
     "data": {
      "text/markdown": [
       "##### Notebook execution start time: 12-12-2023 13:23:09"
      ],
      "text/plain": [
       "<IPython.core.display.Markdown object>"
      ]
     },
     "metadata": {},
     "output_type": "display_data"
    }
   ],
   "source": [
    "start_time = start_execution_time()"
   ]
  },
  {
   "cell_type": "markdown",
   "metadata": {},
   "source": [
    "See also this article https://towardsdatascience.com/email-automation-analytics-and-visualization-53b022e0f9a0"
   ]
  },
  {
   "cell_type": "code",
   "execution_count": 5,
   "metadata": {},
   "outputs": [],
   "source": [
    "def connect(config, mailbox=\"INBOX\"):\n",
    "    email_connection = imaplib.IMAP4_SSL(config[\"imap_server\"], config[\"imap_port\"])\n",
    "    email_connection.login(config[\"username\"], config[\"password\"])\n",
    "    email_connection.select(mailbox)\n",
    "    print(f\"Successfully connected to {config['username']}@icloud.com - {mailbox}\")\n",
    "    return email_connection\n",
    "\n",
    "\n",
    "def search_emails(email_connection, sender):\n",
    "    _, data = email_connection.search(None, f'(FROM \"{sender}\")')\n",
    "    # Split the email identifiers in an array\n",
    "    mail_ids = data[0]\n",
    "    if mail_ids is None:\n",
    "        return None\n",
    "    else:\n",
    "        return mail_ids.split()\n",
    "\n",
    "\n",
    "# Add the deleted flag to an email\n",
    "def set_deleted(email_connection, email_uid):\n",
    "    # print(bytes(str(email_uid).strip(), 'ascii'))\n",
    "    email_connection.uid(\"STORE\", bytes(str(email_uid).strip(), \"ascii\"), \"+FLAGS\", \"(\\\\Deleted)\")\n",
    "\n",
    "\n",
    "def fetch_uid(email_connection, email_id):\n",
    "    try:\n",
    "        _, uid_string = email_connection.fetch(email_id, \"UID\")\n",
    "    except:\n",
    "        raise ConnectionError\n",
    "    try:\n",
    "        uid_str = [str(x, encoding=\"utf-8\") for x in uid_string]\n",
    "    except Exception as e:\n",
    "        print(e)\n",
    "        return None\n",
    "    # print(\"\".join(uid_str))\n",
    "    uid_res = re.search(r\"\\((UID.*?)\\)\", uid_str[0])\n",
    "    return uid_res[1].replace(\"UID\", \"\") if (uid_res != None) else None\n",
    "\n",
    "\n",
    "def parse_args():\n",
    "    parser = argparse.ArgumentParser(\n",
    "        description=\"Delete all incoming emails from a sender email address\"\n",
    "    )\n",
    "    parser.add_argument(\"--email\", help=\"The sender whose messages should be deleted\")\n",
    "    parser.add_argument(\n",
    "        \"--file\",\n",
    "        help=\"A file which contains the target emails. Each email should be on a separate line.\",\n",
    "    )\n",
    "    return parser.parse_args()\n",
    "\n",
    "\n",
    "def validate_input_email(email):\n",
    "    return re.match(r\"[^@]+@[^@]+\\.[^@]+\", email)\n",
    "\n",
    "\n",
    "def verify_cli_args(args):\n",
    "    if args.email is None and args.file is None:\n",
    "        print(\"You need to specify a target email or a file. Use --help for details\")\n",
    "        sys.exit()\n",
    "\n",
    "\n",
    "def import_emails_from_file(filename):\n",
    "    if os.path.isfile(filename):\n",
    "        return open(filename).read().split(\"\\n\")\n",
    "    else:\n",
    "        print(f\"The file {filename} doesn't exist\")"
   ]
  },
  {
   "cell_type": "code",
   "execution_count": 6,
   "metadata": {},
   "outputs": [],
   "source": [
    "# args = parse_args()\n",
    "# verify_cli_args(args)\n",
    "args = None"
   ]
  },
  {
   "cell_type": "code",
   "execution_count": 7,
   "metadata": {},
   "outputs": [],
   "source": [
    "config = ConfigObj(\"config.ini\")"
   ]
  },
  {
   "cell_type": "code",
   "execution_count": 8,
   "metadata": {},
   "outputs": [
    {
     "name": "stdout",
     "output_type": "stream",
     "text": [
      "Using password from config.ini\n"
     ]
    }
   ],
   "source": [
    "if config[\"password\"] == \"\":\n",
    "    config[\"password\"] = getpass(\"Enter your email password: \")\n",
    "else:\n",
    "    print(\"Using password from config.ini\")"
   ]
  },
  {
   "cell_type": "code",
   "execution_count": 9,
   "metadata": {},
   "outputs": [
    {
     "name": "stdout",
     "output_type": "stream",
     "text": [
      "Successfully connected to boothchin@icloud.com - INBOX\n"
     ]
    }
   ],
   "source": [
    "email_connection = connect(config)"
   ]
  },
  {
   "cell_type": "code",
   "execution_count": 10,
   "metadata": {},
   "outputs": [
    {
     "data": {
      "text/plain": [
       "'OK'"
      ]
     },
     "execution_count": 10,
     "metadata": {},
     "output_type": "execute_result"
    }
   ],
   "source": [
    "email_connection.check()[0]"
   ]
  },
  {
   "cell_type": "code",
   "execution_count": 11,
   "metadata": {},
   "outputs": [],
   "source": [
    "def count_by_email_address():\n",
    "    # NOTE: This function doesn't work\n",
    "    print(\"Connecting to \" + config[\"username\"] + \"@icloud.com...\")\n",
    "    email_connection = connect(config)\n",
    "    all_email = []\n",
    "    for target_email in email_connection.search(None, \"ALL\"):\n",
    "        emails = search_emails(email_connection, target_email)\n",
    "        if emails is None:\n",
    "            n_email = 0\n",
    "        else:\n",
    "            n_email = len(emails)\n",
    "        all_email.append([target_email, n_email])\n",
    "    return all_email"
   ]
  },
  {
   "cell_type": "code",
   "execution_count": 12,
   "metadata": {},
   "outputs": [],
   "source": [
    "# all_emails = count_by_email_address()"
   ]
  },
  {
   "cell_type": "code",
   "execution_count": 13,
   "metadata": {},
   "outputs": [],
   "source": [
    "def count_emails():\n",
    "    imaplib._MAXLINE = 10000000\n",
    "    print(\"Connecting to \" + config[\"username\"] + \"@icloud.com...\")\n",
    "    email_connection = connect(config)\n",
    "    email_connection.select(\"INBOX\")\n",
    "    result, data = email_connection.uid(\"search\", None, \"ALL\")\n",
    "    if result == \"OK\":\n",
    "        email_ids = data[0].split()\n",
    "        print(f\"{len(email_ids)}\")\n",
    "        return len(email_ids)\n",
    "    else:\n",
    "        return None"
   ]
  },
  {
   "cell_type": "code",
   "execution_count": 14,
   "metadata": {},
   "outputs": [
    {
     "name": "stdout",
     "output_type": "stream",
     "text": [
      "Connecting to boothchin@icloud.com...\n",
      "Successfully connected to boothchin@icloud.com - INBOX\n",
      "65440\n"
     ]
    },
    {
     "data": {
      "text/plain": [
       "65440"
      ]
     },
     "execution_count": 14,
     "metadata": {},
     "output_type": "execute_result"
    }
   ],
   "source": [
    "count_emails()"
   ]
  },
  {
   "cell_type": "code",
   "execution_count": 15,
   "metadata": {},
   "outputs": [],
   "source": [
    "def count_emails_by_address():\n",
    "    imaplib._MAXLINE = 10000000\n",
    "    print(\"Connecting to \" + config[\"username\"] + \"@icloud.com...\")\n",
    "    email_connection = connect(config)\n",
    "    # Initialize a dictionary to store email counts\n",
    "    email_counts = defaultdict(int)\n",
    "\n",
    "    # Select the mailbox you want to delete in\n",
    "    # If you want SPAM, use \"INBOX.SPAM\"\n",
    "    email_connection.select(\"INBOX\")\n",
    "\n",
    "    # Search for specific mail\n",
    "    result, data = email_connection.uid(\"search\", None, \"ALL\")\n",
    "\n",
    "    # If there is no email, exit\n",
    "    error_count = 0\n",
    "    if result == \"OK\":\n",
    "        # Get the list of email IDs\n",
    "        email_ids = data[0].split()\n",
    "        for e_id in tqdm(email_ids, desc=\"Retrieving all emails\", total=len(email_ids)):\n",
    "            # Fetch the email body\n",
    "            result, email_data = email_connection.uid(\"fetch\", e_id, \"(BODY[HEADER.FIELDS (FROM)])\")\n",
    "            try:\n",
    "                raw_email = email_data[0][1]\n",
    "                email_message = email.message_from_bytes(raw_email)\n",
    "                from_addr = email.utils.parseaddr(email_message[\"From\"])[1]\n",
    "                # Increment the count for this email address\n",
    "                email_counts[from_addr] += 1\n",
    "            except Exception as e:\n",
    "                print(f\"{e}\")\n",
    "                # print(f\"ERROR: Unable to convert from bytes - {raw_email} \")\n",
    "                error_count += 1\n",
    "        return email_counts, error_count\n",
    "    else:\n",
    "        return None"
   ]
  },
  {
   "cell_type": "code",
   "execution_count": 16,
   "metadata": {},
   "outputs": [],
   "source": [
    "# NOTE - this is NOT working - seems to \"crash\" although no exception after ~2.5K emails out of 100K emails\n",
    "# email_counts = count_emails_by_address()"
   ]
  },
  {
   "cell_type": "code",
   "execution_count": 17,
   "metadata": {},
   "outputs": [],
   "source": [
    "# email_counts_df = pd.DataFrame(email_counts)"
   ]
  },
  {
   "cell_type": "code",
   "execution_count": 18,
   "metadata": {},
   "outputs": [],
   "source": [
    "# email_counts_df.to_csv(\"email_counts.csv\")"
   ]
  },
  {
   "cell_type": "code",
   "execution_count": 19,
   "metadata": {},
   "outputs": [],
   "source": [
    "def connect_and_clean(config, target_emails, mailbox=\"INBOX\"):\n",
    "    imaplib._MAXLINE = 10000000\n",
    "    print(\"Connecting to \" + config[\"username\"] + \"@icloud.com...\")\n",
    "    email_connection = connect(config, mailbox)\n",
    "\n",
    "    total_emails_count = 0\n",
    "    for iemail, target_email in enumerate(\n",
    "        tqdm(target_emails, desc=\"Total emails\", total=len(target_emails))\n",
    "    ):\n",
    "        if not validate_input_email(target_email):\n",
    "            print(f\"The email '{target_email}' is not valid\")\n",
    "            continue\n",
    "\n",
    "        if email_connection.check()[0] == \"OK\":\n",
    "            emails = search_emails(email_connection, target_email)\n",
    "            if emails is not None:\n",
    "                emails_count = str(len(emails))\n",
    "            else:\n",
    "                emails_count = 0\n",
    "            total_emails_for_target = int(emails_count)\n",
    "            total_deleted_emails = 0\n",
    "\n",
    "            while int(emails_count) > 0:\n",
    "                # print(f\"Found {emails_count} email(s) for {target_email}\")\n",
    "\n",
    "                for idx, e in tqdm(enumerate(emails), total=int(emails_count), desc=target_email):\n",
    "                    # TODO: Add progress bar here - see\n",
    "\n",
    "                    # The fetching of the email UID is required\n",
    "                    # since the email ID may change between operations\n",
    "                    # as specified by the IMAP standard\n",
    "                    uid = fetch_uid(email_connection, e)\n",
    "                    if uid is None:\n",
    "                        print(\n",
    "                            f\"Email {str(total_deleted_emails + idx + 1)}/{str(total_emails_for_target)} was not valid\"\n",
    "                        )\n",
    "\n",
    "                    else:\n",
    "                        # print(\n",
    "                        #    f\"Deleted email {str(total_deleted_emails + idx + 1)}/{str(total_emails_for_target)}\"\n",
    "                        # )\n",
    "                        try:\n",
    "                            set_deleted(email_connection, uid)\n",
    "                        except Exception as e:\n",
    "                            print(e)\n",
    "                            continue\n",
    "                # Confirm the deletion of the messages\n",
    "                email_connection.expunge()\n",
    "\n",
    "                print(f\"Deleted {emails_count} email(s) for {target_email}\")\n",
    "                print(\"Checking for remaining emails...\")\n",
    "\n",
    "                # Verify if there are any emails left on the server for\n",
    "                # the target address. This is required to circumvent the\n",
    "                # chunking of the search results by iCloud\n",
    "                emails = search_emails(email_connection, target_email)\n",
    "                if emails is not None:\n",
    "                    emails_count = str(len(emails))\n",
    "                else:\n",
    "                    emails_count = 0\n",
    "                total_deleted_emails = total_emails_for_target\n",
    "                total_emails_for_target += int(emails_count)\n",
    "\n",
    "            print(\n",
    "                f\"{iemail}# Cleanup for {target_email} was successful. Deleted {str(total_emails_for_target)} email(s)\"\n",
    "            )\n",
    "            total_emails_count += total_emails_for_target\n",
    "\n",
    "    print(f\"The cleanup was successful. Deleted {str(total_emails_count)} email(s)\")\n",
    "\n",
    "    # Close the mailbox and logout\n",
    "    email_connection.close()\n",
    "    email_connection.logout()\n",
    "    return total_emails_count"
   ]
  },
  {
   "cell_type": "code",
   "execution_count": 20,
   "metadata": {},
   "outputs": [],
   "source": [
    "# if args.email is None:\n",
    "#     target_emails = import_emails_from_file(args.file)\n",
    "# else:\n",
    "#     target_emails = [args.email]"
   ]
  },
  {
   "cell_type": "code",
   "execution_count": 21,
   "metadata": {},
   "outputs": [
    {
     "name": "stdout",
     "output_type": "stream",
     "text": [
      "Connecting to boothchin@icloud.com...\n",
      "Successfully connected to boothchin@icloud.com - INBOX\n"
     ]
    },
    {
     "data": {
      "application/vnd.jupyter.widget-view+json": {
       "model_id": "1939897fded643ab95d5d1b666dcf60f",
       "version_major": 2,
       "version_minor": 0
      },
      "text/plain": [
       "Total emails:   0%|          | 0/238 [00:00<?, ?it/s]"
      ]
     },
     "metadata": {},
     "output_type": "display_data"
    },
    {
     "name": "stdout",
     "output_type": "stream",
     "text": [
      "0# Cleanup for ikea@news.email.ikea.com.au was successful. Deleted 0 email(s)\n"
     ]
    },
    {
     "data": {
      "application/vnd.jupyter.widget-view+json": {
       "model_id": "dafca522713a4f1da663b2d95e4450fe",
       "version_major": 2,
       "version_minor": 0
      },
      "text/plain": [
       "Review@mail.review-australia.com:   0%|          | 0/2 [00:00<?, ?it/s]"
      ]
     },
     "metadata": {},
     "output_type": "display_data"
    },
    {
     "name": "stdout",
     "output_type": "stream",
     "text": [
      "Deleted 2 email(s) for Review@mail.review-australia.com\n",
      "Checking for remaining emails...\n",
      "1# Cleanup for Review@mail.review-australia.com was successful. Deleted 2 email(s)\n"
     ]
    },
    {
     "data": {
      "application/vnd.jupyter.widget-view+json": {
       "model_id": "e09fa1bbb2db4e94a1c0e8ced25e5480",
       "version_major": 2,
       "version_minor": 0
      },
      "text/plain": [
       "naturescapes@engage.nationalparks.nsw.gov.au:   0%|          | 0/1 [00:00<?, ?it/s]"
      ]
     },
     "metadata": {},
     "output_type": "display_data"
    },
    {
     "name": "stdout",
     "output_type": "stream",
     "text": [
      "Deleted 1 email(s) for naturescapes@engage.nationalparks.nsw.gov.au\n",
      "Checking for remaining emails...\n",
      "2# Cleanup for naturescapes@engage.nationalparks.nsw.gov.au was successful. Deleted 1 email(s)\n"
     ]
    },
    {
     "data": {
      "application/vnd.jupyter.widget-view+json": {
       "model_id": "6e16e184d4dd4a06be0a1e7b4f2cc7b5",
       "version_major": 2,
       "version_minor": 0
      },
      "text/plain": [
       "online@vicsmeat.com.au:   0%|          | 0/3 [00:00<?, ?it/s]"
      ]
     },
     "metadata": {},
     "output_type": "display_data"
    },
    {
     "name": "stdout",
     "output_type": "stream",
     "text": [
      "Deleted 3 email(s) for online@vicsmeat.com.au\n",
      "Checking for remaining emails...\n",
      "3# Cleanup for online@vicsmeat.com.au was successful. Deleted 3 email(s)\n",
      "4# Cleanup for no-reply_at_youversion_com_9y2zpmsgty_b96e9767@privaterelay.appleid.com was successful. Deleted 0 email(s)\n",
      "5# Cleanup for noreply@uber.com was successful. Deleted 0 email(s)\n",
      "6# Cleanup for bonappetit@eml.condenast.com was successful. Deleted 0 email(s)\n"
     ]
    },
    {
     "data": {
      "application/vnd.jupyter.widget-view+json": {
       "model_id": "a0eca210c75c4ee08075a311a5cc3b02",
       "version_major": 2,
       "version_minor": 0
      },
      "text/plain": [
       "customerservice.au@antler.com:   0%|          | 0/1 [00:00<?, ?it/s]"
      ]
     },
     "metadata": {},
     "output_type": "display_data"
    },
    {
     "name": "stdout",
     "output_type": "stream",
     "text": [
      "Deleted 1 email(s) for customerservice.au@antler.com\n",
      "Checking for remaining emails...\n",
      "7# Cleanup for customerservice.au@antler.com was successful. Deleted 1 email(s)\n",
      "8# Cleanup for notifications@account.brilliant.org was successful. Deleted 0 email(s)\n"
     ]
    },
    {
     "data": {
      "application/vnd.jupyter.widget-view+json": {
       "model_id": "18dad07e8a9f4091b9d6bf937668d61e",
       "version_major": 2,
       "version_minor": 0
      },
      "text/plain": [
       "info@eatclub.com.au:   0%|          | 0/1 [00:00<?, ?it/s]"
      ]
     },
     "metadata": {},
     "output_type": "display_data"
    },
    {
     "name": "stdout",
     "output_type": "stream",
     "text": [
      "Deleted 1 email(s) for info@eatclub.com.au\n",
      "Checking for remaining emails...\n",
      "9# Cleanup for info@eatclub.com.au was successful. Deleted 1 email(s)\n"
     ]
    },
    {
     "data": {
      "application/vnd.jupyter.widget-view+json": {
       "model_id": "79e5217c733d4c9897a7feb191d950d5",
       "version_major": 2,
       "version_minor": 0
      },
      "text/plain": [
       "reply@email.thecpapshop.com:   0%|          | 0/8 [00:00<?, ?it/s]"
      ]
     },
     "metadata": {},
     "output_type": "display_data"
    },
    {
     "name": "stdout",
     "output_type": "stream",
     "text": [
      "Deleted 8 email(s) for reply@email.thecpapshop.com\n",
      "Checking for remaining emails...\n",
      "10# Cleanup for reply@email.thecpapshop.com was successful. Deleted 8 email(s)\n",
      "11# Cleanup for hello@grouptogether.com was successful. Deleted 0 email(s)\n",
      "12# Cleanup for no-reply@em-s.dropbox.com was successful. Deleted 0 email(s)\n",
      "13# Cleanup for reviews@okendo.io was successful. Deleted 0 email(s)\n",
      "14# Cleanup for enquiries@afsydney.com.au was successful. Deleted 0 email(s)\n",
      "15# Cleanup for mail@eu.emailbrand.net was successful. Deleted 0 email(s)\n",
      "16# Cleanup for newsletter@e.lasttix.com.au was successful. Deleted 0 email(s)\n",
      "17# Cleanup for newsletter-au@email.photobookworldwide.com was successful. Deleted 0 email(s)\n",
      "18# Cleanup for hi@mealpal.com was successful. Deleted 0 email(s)\n",
      "19# Cleanup for t2au@au.promotions.t2tea.com was successful. Deleted 0 email(s)\n",
      "20# Cleanup for info@e.hyatt.com was successful. Deleted 0 email(s)\n",
      "21# Cleanup for qantasff@loyalty.qantas.com was successful. Deleted 0 email(s)\n",
      "22# Cleanup for velocity@e.velocityfrequentflyer.com was successful. Deleted 0 email(s)\n",
      "23# Cleanup for info@email2.28degreescard.com.au was successful. Deleted 0 email(s)\n",
      "24# Cleanup for patrick@hurleyco.com.au was successful. Deleted 0 email(s)\n",
      "25# Cleanup for no-reply@email.sonos.com was successful. Deleted 0 email(s)\n",
      "26# Cleanup for info@medadvisor.net.au was successful. Deleted 0 email(s)\n",
      "27# Cleanup for hello@harrisfarm.com.au was successful. Deleted 0 email(s)\n",
      "28# Cleanup for lrobert-smith@mlcsyd.nsw.edu.au was successful. Deleted 0 email(s)\n",
      "29# Cleanup for noreply@kaggle.com was successful. Deleted 0 email(s)\n",
      "30# Cleanup for auesmail@edelivery.citi.com was successful. Deleted 0 email(s)\n",
      "31# Cleanup for news@news.uniqlo.com.au was successful. Deleted 0 email(s)\n",
      "32# Cleanup for no-reply@opentable.com was successful. Deleted 0 email(s)\n",
      "33# Cleanup for deals@e.jbhifi.com.au was successful. Deleted 0 email(s)\n",
      "34# Cleanup for hello@mail.scribd.com was successful. Deleted 0 email(s)\n",
      "35# Cleanup for javramis@mlcsyd.nsw.edu.au was successful. Deleted 0 email(s)\n",
      "36# Cleanup for HCF@newsletters.hcf.com.au was successful. Deleted 0 email(s)\n",
      "37# Cleanup for HertzGoldOffers@goldplusrewards.hertz.com was successful. Deleted 0 email(s)\n",
      "38# Cleanup for noreply@e.optus.com.au was successful. Deleted 0 email(s)\n",
      "39# Cleanup for nespresso@emailing.nespresso.com was successful. Deleted 0 email(s)\n",
      "40# Cleanup for hello@mojopower.com.au was successful. Deleted 0 email(s)\n",
      "41# Cleanup for no-reply@sbhs.nsw.edu.au was successful. Deleted 0 email(s)\n",
      "42# Cleanup for support@koala.com was successful. Deleted 0 email(s)\n"
     ]
    },
    {
     "data": {
      "application/vnd.jupyter.widget-view+json": {
       "model_id": "a86a82c5b7f44b2aaca7321cdc9c6da4",
       "version_major": 2,
       "version_minor": 0
      },
      "text/plain": [
       "qantasff@e.qantas.com:   0%|          | 0/4 [00:00<?, ?it/s]"
      ]
     },
     "metadata": {},
     "output_type": "display_data"
    },
    {
     "name": "stdout",
     "output_type": "stream",
     "text": [
      "Deleted 4 email(s) for qantasff@e.qantas.com\n",
      "Checking for remaining emails...\n",
      "43# Cleanup for qantasff@e.qantas.com was successful. Deleted 4 email(s)\n",
      "44# Cleanup for updates@message.noom.com was successful. Deleted 0 email(s)\n",
      "45# Cleanup for peloton@mail.op.onepeloton.com was successful. Deleted 0 email(s)\n",
      "46# Cleanup for no-reply@t.mail.coursera.org was successful. Deleted 0 email(s)\n",
      "47# Cleanup for contact@iapa.org.au was successful. Deleted 0 email(s)\n",
      "48# Cleanup for news@e.sportscraft.com.au was successful. Deleted 0 email(s)\n",
      "49# Cleanup for info@lesansa.com was successful. Deleted 0 email(s)\n",
      "50# Cleanup for info@ccresorts.com.au was successful. Deleted 0 email(s)\n",
      "51# Cleanup for hello-auz@e.lululemon.com was successful. Deleted 0 email(s)\n",
      "52# Cleanup for info@edm.lornajane.com.au was successful. Deleted 0 email(s)\n",
      "53# Cleanup for no-reply@doordash.com was successful. Deleted 0 email(s)\n",
      "54# Cleanup for hello@rhtc.com.au was successful. Deleted 0 email(s)\n",
      "55# Cleanup for delonghi-au@news.delonghi.com was successful. Deleted 0 email(s)\n",
      "56# Cleanup for newsletter@email.malaysiaairlines.com was successful. Deleted 0 email(s)\n",
      "57# Cleanup for jetstar@email.jetstar.com was successful. Deleted 0 email(s)\n",
      "58# Cleanup for hello@hello.scribd.com was successful. Deleted 0 email(s)\n",
      "59# Cleanup for au-news@t2teasociety.com was successful. Deleted 0 email(s)\n",
      "60# Cleanup for sales@videopro.co was successful. Deleted 0 email(s)\n",
      "61# Cleanup for alirashidy@creators.gumroad.comm.au was successful. Deleted 0 email(s)\n",
      "62# Cleanup for innkeeper@innatoccidental.com was successful. Deleted 0 email(s)\n",
      "63# Cleanup for hello@floraly.com.au was successful. Deleted 0 email(s)\n",
      "64# Cleanup for dc@atyp.com.au was successful. Deleted 0 email(s)\n",
      "65# Cleanup for news@e.cottonon.com was successful. Deleted 0 email(s)\n",
      "66# Cleanup for news@partners.timeout.com was successful. Deleted 0 email(s)\n",
      "67# Cleanup for info@alegrias.com.au was successful. Deleted 0 email(s)\n",
      "68# Cleanup for email@au.uniqlo.com was successful. Deleted 0 email(s)\n",
      "69# Cleanup for edm@emkt.princesscruises.com.au was successful. Deleted 0 email(s)\n",
      "70# Cleanup for store-news@e.kogan.com was successful. Deleted 0 email(s)\n",
      "71# Cleanup for contact@contact.loccitane.com was successful. Deleted 0 email(s)\n",
      "72# Cleanup for photobook-au@enews.photobookworldwide.com was successful. Deleted 0 email(s)\n",
      "73# Cleanup for nike@official.nike.com was successful. Deleted 0 email(s)\n",
      "74# Cleanup for visit@austmus.gov.au was successful. Deleted 0 email(s)\n",
      "75# Cleanup for info@temporada.com.au was successful. Deleted 0 email(s)\n",
      "76# Cleanup for newsletter@e.catch.com.au was successful. Deleted 0 email(s)\n",
      "77# Cleanup for no-reply@wildearth.com.au was successful. Deleted 0 email(s)\n",
      "78# Cleanup for news@newsletters.timeout.com was successful. Deleted 0 email(s)\n",
      "79# Cleanup for marketing@email.harveynorman.com.au was successful. Deleted 0 email(s)\n",
      "80# Cleanup for do-not-reply_at_e_maccas_com_au_qt9ns8pjtx_1f2637bb@privaterelay.appleid.com was successful. Deleted 0 email(s)\n",
      "81# Cleanup for news.all@accor-mail.com was successful. Deleted 0 email(s)\n",
      "82# Cleanup for info_at_feed_liven_com_au_g3ji5t8aph_8d2c3485@privaterelay.appleid.com was successful. Deleted 0 email(s)\n",
      "83# Cleanup for offers_at_wish_com_beiqsw6b6x_a1a1068e@privaterelay.appleid.com was successful. Deleted 0 email(s)\n",
      "84# Cleanup for shop@e.templeandwebster.com.au was successful. Deleted 0 email(s)\n",
      "85# Cleanup for email@crocs-email.com was successful. Deleted 0 email(s)\n",
      "86# Cleanup for exclusive@au.travelzoo.com was successful. Deleted 0 email(s)\n"
     ]
    },
    {
     "data": {
      "application/vnd.jupyter.widget-view+json": {
       "model_id": "c453d1c58a6e40129b552031f4dc1df6",
       "version_major": 2,
       "version_minor": 0
      },
      "text/plain": [
       "news@connectingup.org:   0%|          | 0/1 [00:00<?, ?it/s]"
      ]
     },
     "metadata": {},
     "output_type": "display_data"
    },
    {
     "name": "stdout",
     "output_type": "stream",
     "text": [
      "Deleted 1 email(s) for news@connectingup.org\n",
      "Checking for remaining emails...\n",
      "87# Cleanup for news@connectingup.org was successful. Deleted 1 email(s)\n",
      "88# Cleanup for non@saintpeter.com.au was successful. Deleted 0 email(s)\n",
      "89# Cleanup for recommendations@discover.pinterest.com was successful. Deleted 0 email(s)\n",
      "90# Cleanup for email@comms.officeworks.com.au was successful. Deleted 0 email(s)\n",
      "91# Cleanup for westfield@emailnews.westfield.com.au was successful. Deleted 0 email(s)\n",
      "92# Cleanup for stali@stali.com.au was successful. Deleted 0 email(s)\n",
      "93# Cleanup for nl.daily@e.theaustralian.com.au was successful. Deleted 0 email(s)\n",
      "94# Cleanup for start_at_engage_canva_com_4qf7xngqrn_e78ccea5@privaterelay.appleid.com was successful. Deleted 0 email(s)\n",
      "95# Cleanup for marketing@message.ofx.com was successful. Deleted 0 email(s)\n",
      "96# Cleanup for info@gymmealsdirect.com.au was successful. Deleted 0 email(s)\n",
      "97# Cleanup for reply@targetnewsletter.com.au was successful. Deleted 0 email(s)\n",
      "98# Cleanup for TodayTix@email.todaytix.com was successful. Deleted 0 email(s)\n",
      "99# Cleanup for no-reply@emails.gumtree.com.au was successful. Deleted 0 email(s)\n"
     ]
    },
    {
     "data": {
      "application/vnd.jupyter.widget-view+json": {
       "model_id": "74de4bd5d6454ee3a99bc02d5ed44ef7",
       "version_major": 2,
       "version_minor": 0
      },
      "text/plain": [
       "news@e.tfehotels.com:   0%|          | 0/1 [00:00<?, ?it/s]"
      ]
     },
     "metadata": {},
     "output_type": "display_data"
    },
    {
     "name": "stdout",
     "output_type": "stream",
     "text": [
      "Deleted 1 email(s) for news@e.tfehotels.com\n",
      "Checking for remaining emails...\n",
      "100# Cleanup for news@e.tfehotels.com was successful. Deleted 1 email(s)\n"
     ]
    },
    {
     "data": {
      "application/vnd.jupyter.widget-view+json": {
       "model_id": "64331cb9835649eca0d42bc7d2a881ff",
       "version_major": 2,
       "version_minor": 0
      },
      "text/plain": [
       "news@email.happysocks.com:   0%|          | 0/1 [00:00<?, ?it/s]"
      ]
     },
     "metadata": {},
     "output_type": "display_data"
    },
    {
     "name": "stdout",
     "output_type": "stream",
     "text": [
      "Deleted 1 email(s) for news@email.happysocks.com\n",
      "Checking for remaining emails...\n",
      "101# Cleanup for news@email.happysocks.com was successful. Deleted 1 email(s)\n"
     ]
    },
    {
     "data": {
      "application/vnd.jupyter.widget-view+json": {
       "model_id": "ddd2074e123943e8a01286ea67678650",
       "version_major": 2,
       "version_minor": 0
      },
      "text/plain": [
       "ziera@e.zierashoes.com:   0%|          | 0/3 [00:00<?, ?it/s]"
      ]
     },
     "metadata": {},
     "output_type": "display_data"
    },
    {
     "name": "stdout",
     "output_type": "stream",
     "text": [
      "Deleted 3 email(s) for ziera@e.zierashoes.com\n",
      "Checking for remaining emails...\n",
      "102# Cleanup for ziera@e.zierashoes.com was successful. Deleted 3 email(s)\n",
      "103# Cleanup for hello@duolingo.com was successful. Deleted 0 email(s)\n"
     ]
    },
    {
     "data": {
      "application/vnd.jupyter.widget-view+json": {
       "model_id": "0aa5a2807bc240ceb90ccca82a44d3f4",
       "version_major": 2,
       "version_minor": 0
      },
      "text/plain": [
       "info@mail.vionicshoes.com.au:   0%|          | 0/1 [00:00<?, ?it/s]"
      ]
     },
     "metadata": {},
     "output_type": "display_data"
    },
    {
     "name": "stdout",
     "output_type": "stream",
     "text": [
      "Deleted 1 email(s) for info@mail.vionicshoes.com.au\n",
      "Checking for remaining emails...\n",
      "104# Cleanup for info@mail.vionicshoes.com.au was successful. Deleted 1 email(s)\n",
      "105# Cleanup for kim@heyyou.com.au was successful. Deleted 0 email(s)\n",
      "106# Cleanup for deal_at_welltory_com_q75wbfsw99_20bb9b4a@privaterelay.appleid.com was successful. Deleted 0 email(s)\n",
      "107# Cleanup for messages-noreply@linkedin.com was successful. Deleted 0 email(s)\n",
      "108# Cleanup for enquiries@bagstogo.com.au was successful. Deleted 0 email(s)\n"
     ]
    },
    {
     "data": {
      "application/vnd.jupyter.widget-view+json": {
       "model_id": "2e9cf7722ded460fbf48eabec003d0a4",
       "version_major": 2,
       "version_minor": 0
      },
      "text/plain": [
       "comms@email.mynrma.com.au:   0%|          | 0/1 [00:00<?, ?it/s]"
      ]
     },
     "metadata": {},
     "output_type": "display_data"
    },
    {
     "name": "stdout",
     "output_type": "stream",
     "text": [
      "Deleted 1 email(s) for comms@email.mynrma.com.au\n",
      "Checking for remaining emails...\n",
      "109# Cleanup for comms@email.mynrma.com.au was successful. Deleted 1 email(s)\n"
     ]
    },
    {
     "data": {
      "application/vnd.jupyter.widget-view+json": {
       "model_id": "9172b34e2e944738a24fb99ea8ba90f2",
       "version_major": 2,
       "version_minor": 0
      },
      "text/plain": [
       "appletv@insideapple.apple.com:   0%|          | 0/1 [00:00<?, ?it/s]"
      ]
     },
     "metadata": {},
     "output_type": "display_data"
    },
    {
     "name": "stdout",
     "output_type": "stream",
     "text": [
      "Deleted 1 email(s) for appletv@insideapple.apple.com\n",
      "Checking for remaining emails...\n",
      "110# Cleanup for appletv@insideapple.apple.com was successful. Deleted 1 email(s)\n",
      "111# Cleanup for ask@luggagedirect.com.au was successful. Deleted 0 email(s)\n",
      "112# Cleanup for info.respectsleep.com.au@viazohocrm.com.au was successful. Deleted 0 email(s)\n"
     ]
    },
    {
     "data": {
      "application/vnd.jupyter.widget-view+json": {
       "model_id": "7754e41cd9cf42a3b6e56f83e08ad5f0",
       "version_major": 2,
       "version_minor": 0
      },
      "text/plain": [
       "news@info.cruisecritic.com:   0%|          | 0/2 [00:00<?, ?it/s]"
      ]
     },
     "metadata": {},
     "output_type": "display_data"
    },
    {
     "name": "stdout",
     "output_type": "stream",
     "text": [
      "Deleted 2 email(s) for news@info.cruisecritic.com\n",
      "Checking for remaining emails...\n",
      "113# Cleanup for news@info.cruisecritic.com was successful. Deleted 2 email(s)\n",
      "114# Cleanup for hiking_at_hiiker_co_64vxw87knz_04279362@privaterelay.appleid.com was successful. Deleted 0 email(s)\n",
      "115# Cleanup for recommends@ted.com was successful. Deleted 0 email(s)\n",
      "116# Cleanup for loyalty@my7eleven.7eleven.com.au was successful. Deleted 0 email(s)\n",
      "117# Cleanup for noreply@mail.review-australia.com was successful. Deleted 0 email(s)\n",
      "118# Cleanup for hello@mailwines.com.au was successful. Deleted 0 email(s)\n",
      "119# Cleanup for hello@dresden.vision was successful. Deleted 0 email(s)\n",
      "120# Cleanup for longwalkhome@thewaysidechapel.com was successful. Deleted 0 email(s)\n",
      "121# Cleanup for rundown@brooksrunning.com.au was successful. Deleted 0 email(s)\n",
      "122# Cleanup for contact@thiswayupclinic.org was successful. Deleted 0 email(s)\n",
      "123# Cleanup for support@cpap.com.au was successful. Deleted 0 email(s)\n",
      "124# Cleanup for email@discover.binge.com.au was successful. Deleted 0 email(s)\n",
      "125# Cleanup for newsletter@zsg.com.au was successful. Deleted 0 email(s)\n",
      "126# Cleanup for hello@zsg.com.au was successful. Deleted 0 email(s)\n",
      "127# Cleanup for social@zsg.com.au was successful. Deleted 0 email(s)\n",
      "128# Cleanup for email@newsletter.bonappetit.com was successful. Deleted 0 email(s)\n",
      "129# Cleanup for newsletter@zagarra.com.au was successful. Deleted 0 email(s)\n",
      "130# Cleanup for reports@x3watch.com was successful. Deleted 0 email(s)\n",
      "131# Cleanup for enquiries@bodegatapas.com was successful. Deleted 0 email(s)\n",
      "132# Cleanup for support@wotif.travel was successful. Deleted 0 email(s)\n",
      "133# Cleanup for noreply@viconferences.com.au was successful. Deleted 0 email(s)\n",
      "134# Cleanup for noreply@docplay.com was successful. Deleted 0 email(s)\n"
     ]
    },
    {
     "data": {
      "application/vnd.jupyter.widget-view+json": {
       "model_id": "dce67a61d43f4347b0a3e522679327d6",
       "version_major": 2,
       "version_minor": 0
      },
      "text/plain": [
       "allbeauty@email-allbeauty.com:   0%|          | 0/7 [00:00<?, ?it/s]"
      ]
     },
     "metadata": {},
     "output_type": "display_data"
    },
    {
     "name": "stdout",
     "output_type": "stream",
     "text": [
      "Deleted 7 email(s) for allbeauty@email-allbeauty.com\n",
      "Checking for remaining emails...\n",
      "135# Cleanup for allbeauty@email-allbeauty.com was successful. Deleted 7 email(s)\n"
     ]
    },
    {
     "data": {
      "application/vnd.jupyter.widget-view+json": {
       "model_id": "6b76abf3a15d43e2a9a7750e8e4c4117",
       "version_major": 2,
       "version_minor": 0
      },
      "text/plain": [
       "enewsletters@petersofkensington.com.au:   0%|          | 0/10 [00:00<?, ?it/s]"
      ]
     },
     "metadata": {},
     "output_type": "display_data"
    },
    {
     "name": "stdout",
     "output_type": "stream",
     "text": [
      "Deleted 10 email(s) for enewsletters@petersofkensington.com.au\n",
      "Checking for remaining emails...\n",
      "136# Cleanup for enewsletters@petersofkensington.com.au was successful. Deleted 10 email(s)\n"
     ]
    },
    {
     "data": {
      "application/vnd.jupyter.widget-view+json": {
       "model_id": "38891e616c364e48a189cb6dec72c200",
       "version_major": 2,
       "version_minor": 0
      },
      "text/plain": [
       "applearcade@insideapple.apple.com:   0%|          | 0/1 [00:00<?, ?it/s]"
      ]
     },
     "metadata": {},
     "output_type": "display_data"
    },
    {
     "name": "stdout",
     "output_type": "stream",
     "text": [
      "Deleted 1 email(s) for applearcade@insideapple.apple.com\n",
      "Checking for remaining emails...\n",
      "137# Cleanup for applearcade@insideapple.apple.com was successful. Deleted 1 email(s)\n"
     ]
    },
    {
     "data": {
      "application/vnd.jupyter.widget-view+json": {
       "model_id": "1621e3f95c164c4889f6d8b05aecdccf",
       "version_major": 2,
       "version_minor": 0
      },
      "text/plain": [
       "noreply@r.grouponmail.com.au:   0%|          | 0/16 [00:00<?, ?it/s]"
      ]
     },
     "metadata": {},
     "output_type": "display_data"
    },
    {
     "name": "stdout",
     "output_type": "stream",
     "text": [
      "Deleted 16 email(s) for noreply@r.grouponmail.com.au\n",
      "Checking for remaining emails...\n",
      "138# Cleanup for noreply@r.grouponmail.com.au was successful. Deleted 16 email(s)\n",
      "139# Cleanup for noreply@chargrillcharlies.com.au was successful. Deleted 0 email(s)\n"
     ]
    },
    {
     "data": {
      "application/vnd.jupyter.widget-view+json": {
       "model_id": "debe981b85a64be989677c998a20e46a",
       "version_major": 2,
       "version_minor": 0
      },
      "text/plain": [
       "brooksrunning@info.brooksrunning.com:   0%|          | 0/2 [00:00<?, ?it/s]"
      ]
     },
     "metadata": {},
     "output_type": "display_data"
    },
    {
     "name": "stdout",
     "output_type": "stream",
     "text": [
      "Deleted 2 email(s) for brooksrunning@info.brooksrunning.com\n",
      "Checking for remaining emails...\n",
      "140# Cleanup for brooksrunning@info.brooksrunning.com was successful. Deleted 2 email(s)\n",
      "141# Cleanup for marketingassistant@sydneyeisteddfod.com.au was successful. Deleted 0 email(s)\n"
     ]
    },
    {
     "data": {
      "application/vnd.jupyter.widget-view+json": {
       "model_id": "be16a804be6045e89e286b648aaeceb1",
       "version_major": 2,
       "version_minor": 0
      },
      "text/plain": [
       "notifications-noreply@linkedin.com:   0%|          | 0/3 [00:00<?, ?it/s]"
      ]
     },
     "metadata": {},
     "output_type": "display_data"
    },
    {
     "name": "stdout",
     "output_type": "stream",
     "text": [
      "Deleted 3 email(s) for notifications-noreply@linkedin.com\n",
      "Checking for remaining emails...\n",
      "142# Cleanup for notifications-noreply@linkedin.com was successful. Deleted 3 email(s)\n",
      "143# Cleanup for Ticketek@events.ticketek.com.au was successful. Deleted 0 email(s)\n",
      "144# Cleanup for pageupdates@facebookmail.com was successful. Deleted 0 email(s)\n"
     ]
    },
    {
     "data": {
      "application/vnd.jupyter.widget-view+json": {
       "model_id": "a71d349e2bd0471387366d0339602be2",
       "version_major": 2,
       "version_minor": 0
      },
      "text/plain": [
       "reply@e.opendoors.org.au:   0%|          | 0/1 [00:00<?, ?it/s]"
      ]
     },
     "metadata": {},
     "output_type": "display_data"
    },
    {
     "name": "stdout",
     "output_type": "stream",
     "text": [
      "Deleted 1 email(s) for reply@e.opendoors.org.au\n",
      "Checking for remaining emails...\n",
      "145# Cleanup for reply@e.opendoors.org.au was successful. Deleted 1 email(s)\n",
      "146# Cleanup for community@email.withings.com was successful. Deleted 0 email(s)\n"
     ]
    },
    {
     "data": {
      "application/vnd.jupyter.widget-view+json": {
       "model_id": "4e8b1b725bce429993094e23cba76d70",
       "version_major": 2,
       "version_minor": 0
      },
      "text/plain": [
       "contacts@email.spotlight.com.au:   0%|          | 0/1 [00:00<?, ?it/s]"
      ]
     },
     "metadata": {},
     "output_type": "display_data"
    },
    {
     "name": "stdout",
     "output_type": "stream",
     "text": [
      "Deleted 1 email(s) for contacts@email.spotlight.com.au\n",
      "Checking for remaining emails...\n",
      "147# Cleanup for contacts@email.spotlight.com.au was successful. Deleted 1 email(s)\n",
      "148# Cleanup for stan@comms.stan.com.au was successful. Deleted 0 email(s)\n",
      "149# Cleanup for updates@e.nine.com.au was successful. Deleted 0 email(s)\n",
      "150# Cleanup for jon.owen@thewaysidechapel.com was successful. Deleted 0 email(s)\n",
      "151# Cleanup for info@thecpapclinic.com.au was successful. Deleted 0 email(s)\n",
      "152# Cleanup for admin@equip.org.au was successful. Deleted 0 email(s)\n"
     ]
    },
    {
     "data": {
      "application/vnd.jupyter.widget-view+json": {
       "model_id": "eb66c26e87414b90a543a8e7f839006c",
       "version_major": 2,
       "version_minor": 0
      },
      "text/plain": [
       "ThreeBlueDucksByron@email.sevenrooms.com:   0%|          | 0/1 [00:00<?, ?it/s]"
      ]
     },
     "metadata": {},
     "output_type": "display_data"
    },
    {
     "name": "stdout",
     "output_type": "stream",
     "text": [
      "Deleted 1 email(s) for ThreeBlueDucksByron@email.sevenrooms.com\n",
      "Checking for remaining emails...\n",
      "153# Cleanup for ThreeBlueDucksByron@email.sevenrooms.com was successful. Deleted 1 email(s)\n",
      "154# Cleanup for mailer@engage.hoyts.com.au was successful. Deleted 0 email(s)\n",
      "155# Cleanup for noreply@tangsmarketing.com was successful. Deleted 0 email(s)\n",
      "156# Cleanup for appnetworkk43253fefekdwkeaw@hetnet.nl was successful. Deleted 0 email(s)\n",
      "157# Cleanup for Trip.com@newsletter.trip.com was successful. Deleted 0 email(s)\n"
     ]
    },
    {
     "data": {
      "application/vnd.jupyter.widget-view+json": {
       "model_id": "92379f54a68b4fbdb7cf1cfc80c86ed8",
       "version_major": 2,
       "version_minor": 0
      },
      "text/plain": [
       "opera.australia@opera.org.au:   0%|          | 0/1 [00:00<?, ?it/s]"
      ]
     },
     "metadata": {},
     "output_type": "display_data"
    },
    {
     "name": "stdout",
     "output_type": "stream",
     "text": [
      "Deleted 1 email(s) for opera.australia@opera.org.au\n",
      "Checking for remaining emails...\n",
      "158# Cleanup for opera.australia@opera.org.au was successful. Deleted 1 email(s)\n",
      "159# Cleanup for orders@cultivatewhatmatters.com was successful. Deleted 0 email(s)\n",
      "160# Cleanup for recommends_at_ted_com_wxv5gvwccf_8250ebb6@privaterelay.appleid.com was successful. Deleted 0 email(s)\n"
     ]
    },
    {
     "data": {
      "application/vnd.jupyter.widget-view+json": {
       "model_id": "17822d712cec4d2086b7b0e4009369dc",
       "version_major": 2,
       "version_minor": 0
      },
      "text/plain": [
       "executivedirector.nswact@connect.cms.org.au:   0%|          | 0/1 [00:00<?, ?it/s]"
      ]
     },
     "metadata": {},
     "output_type": "display_data"
    },
    {
     "name": "stdout",
     "output_type": "stream",
     "text": [
      "Deleted 1 email(s) for executivedirector.nswact@connect.cms.org.au\n",
      "Checking for remaining emails...\n",
      "161# Cleanup for executivedirector.nswact@connect.cms.org.au was successful. Deleted 1 email(s)\n",
      "162# Cleanup for marketing@sydneytheatre.com.au was successful. Deleted 0 email(s)\n",
      "163# Cleanup for wine@leridaestate.com was successful. Deleted 0 email(s)\n"
     ]
    },
    {
     "data": {
      "application/vnd.jupyter.widget-view+json": {
       "model_id": "9781871f67984c85b8cb150bf894fd2c",
       "version_major": 2,
       "version_minor": 0
      },
      "text/plain": [
       "vivino_at_m_vivino_com_zd2dnkxn4m_07d74ca2@privaterelay.appleid.com:   0%|          | 0/1 [00:00<?, ?it/s]"
      ]
     },
     "metadata": {},
     "output_type": "display_data"
    },
    {
     "name": "stdout",
     "output_type": "stream",
     "text": [
      "Deleted 1 email(s) for vivino_at_m_vivino_com_zd2dnkxn4m_07d74ca2@privaterelay.appleid.com\n",
      "Checking for remaining emails...\n",
      "164# Cleanup for vivino_at_m_vivino_com_zd2dnkxn4m_07d74ca2@privaterelay.appleid.com was successful. Deleted 1 email(s)\n",
      "165# Cleanup for drive-shares-dm-noreply@google.com was successful. Deleted 0 email(s)\n",
      "166# Cleanup for Colin.Holt@hudsonmeats.com was successful. Deleted 0 email(s)\n",
      "167# Cleanup for noreply@e.fitbit.com was successful. Deleted 0 email(s)\n",
      "168# Cleanup for hotel-mademoiselle@experience-hotels.com was successful. Deleted 0 email(s)\n",
      "169# Cleanup for mark.lamonica1@morningstar.com was successful. Deleted 0 email(s)\n",
      "170# Cleanup for noreply@e.dyson.com.au was successful. Deleted 0 email(s)\n",
      "171# Cleanup for no-reply@m.mail.coursera.org was successful. Deleted 0 email(s)\n",
      "172# Cleanup for support@heyyou.com.au was successful. Deleted 0 email(s)\n",
      "173# Cleanup for marketing@qstation.com.au was successful. Deleted 0 email(s)\n",
      "174# Cleanup for coles@specials.coles.com.au was successful. Deleted 0 email(s)\n",
      "175# Cleanup for rewards@e.theathletesfoot.com.au was successful. Deleted 0 email(s)\n",
      "176# Cleanup for privilege@email.fareasthospitality.com was successful. Deleted 0 email(s)\n",
      "177# Cleanup for noreply@survey.acs.org.au was successful. Deleted 0 email(s)\n"
     ]
    },
    {
     "data": {
      "application/vnd.jupyter.widget-view+json": {
       "model_id": "03cf19b557fa4b8ebad506f68780ce65",
       "version_major": 2,
       "version_minor": 0
      },
      "text/plain": [
       "no-reply@mail.theaustralianwine.com.au:   0%|          | 0/2 [00:00<?, ?it/s]"
      ]
     },
     "metadata": {},
     "output_type": "display_data"
    },
    {
     "name": "stdout",
     "output_type": "stream",
     "text": [
      "Deleted 2 email(s) for no-reply@mail.theaustralianwine.com.au\n",
      "Checking for remaining emails...\n",
      "178# Cleanup for no-reply@mail.theaustralianwine.com.au was successful. Deleted 2 email(s)\n",
      "179# Cleanup for nytdirect_at_nytimes_com_bkvss7xdkj_ddae82dc@privaterelay.appleid.com was successful. Deleted 0 email(s)\n"
     ]
    },
    {
     "data": {
      "application/vnd.jupyter.widget-view+json": {
       "model_id": "f46512fcf0d9467b842a9713856e16bd",
       "version_major": 2,
       "version_minor": 0
      },
      "text/plain": [
       "mkt@manning.com:   0%|          | 0/6 [00:00<?, ?it/s]"
      ]
     },
     "metadata": {},
     "output_type": "display_data"
    },
    {
     "name": "stdout",
     "output_type": "stream",
     "text": [
      "Deleted 6 email(s) for mkt@manning.com\n",
      "Checking for remaining emails...\n",
      "180# Cleanup for mkt@manning.com was successful. Deleted 6 email(s)\n",
      "181# Cleanup for reminders@facebookmail.com was successful. Deleted 0 email(s)\n",
      "182# Cleanup for elderton@eldertonwines.com.au was successful. Deleted 0 email(s)\n",
      "183# Cleanup for audience@thatstheticket.com.au was successful. Deleted 0 email(s)\n"
     ]
    },
    {
     "data": {
      "application/vnd.jupyter.widget-view+json": {
       "model_id": "b6ff6edcb236469aa69edb3a446487d8",
       "version_major": 2,
       "version_minor": 0
      },
      "text/plain": [
       "hello@email.newbalance.com.au:   0%|          | 0/1 [00:00<?, ?it/s]"
      ]
     },
     "metadata": {},
     "output_type": "display_data"
    },
    {
     "name": "stdout",
     "output_type": "stream",
     "text": [
      "Deleted 1 email(s) for hello@email.newbalance.com.au\n",
      "Checking for remaining emails...\n",
      "184# Cleanup for hello@email.newbalance.com.au was successful. Deleted 1 email(s)\n",
      "185# Cleanup for reply@et.oreilly.com was successful. Deleted 0 email(s)\n"
     ]
    },
    {
     "data": {
      "application/vnd.jupyter.widget-view+json": {
       "model_id": "1597beba12874fcfa51712690bd83cb0",
       "version_major": 2,
       "version_minor": 0
      },
      "text/plain": [
       "noreply@s.seek.com.au:   0%|          | 0/1 [00:00<?, ?it/s]"
      ]
     },
     "metadata": {},
     "output_type": "display_data"
    },
    {
     "name": "stdout",
     "output_type": "stream",
     "text": [
      "Deleted 1 email(s) for noreply@s.seek.com.au\n",
      "Checking for remaining emails...\n",
      "186# Cleanup for noreply@s.seek.com.au was successful. Deleted 1 email(s)\n"
     ]
    },
    {
     "data": {
      "application/vnd.jupyter.widget-view+json": {
       "model_id": "7203def794da4707823b8e854cf4856c",
       "version_major": 2,
       "version_minor": 0
      },
      "text/plain": [
       "hello@i.thewinecollective.com.au:   0%|          | 0/2 [00:00<?, ?it/s]"
      ]
     },
     "metadata": {},
     "output_type": "display_data"
    },
    {
     "name": "stdout",
     "output_type": "stream",
     "text": [
      "Deleted 2 email(s) for hello@i.thewinecollective.com.au\n",
      "Checking for remaining emails...\n",
      "187# Cleanup for hello@i.thewinecollective.com.au was successful. Deleted 2 email(s)\n",
      "188# Cleanup for contact@myhobbies.com.au was successful. Deleted 0 email(s)\n"
     ]
    },
    {
     "data": {
      "application/vnd.jupyter.widget-view+json": {
       "model_id": "def2a64578294d5a8a2ba4bbcb905519",
       "version_major": 2,
       "version_minor": 0
      },
      "text/plain": [
       "newsdigest@insideapple.apple.com:   0%|          | 0/1 [00:00<?, ?it/s]"
      ]
     },
     "metadata": {},
     "output_type": "display_data"
    },
    {
     "name": "stdout",
     "output_type": "stream",
     "text": [
      "Deleted 1 email(s) for newsdigest@insideapple.apple.com\n",
      "Checking for remaining emails...\n",
      "189# Cleanup for newsdigest@insideapple.apple.com was successful. Deleted 1 email(s)\n"
     ]
    },
    {
     "data": {
      "application/vnd.jupyter.widget-view+json": {
       "model_id": "e424f2c9e5bc4e8283e907a01b3a24f2",
       "version_major": 2,
       "version_minor": 0
      },
      "text/plain": [
       "do-not-reply@e.maccas.com.au:   0%|          | 0/1 [00:00<?, ?it/s]"
      ]
     },
     "metadata": {},
     "output_type": "display_data"
    },
    {
     "name": "stdout",
     "output_type": "stream",
     "text": [
      "Deleted 1 email(s) for do-not-reply@e.maccas.com.au\n",
      "Checking for remaining emails...\n",
      "190# Cleanup for do-not-reply@e.maccas.com.au was successful. Deleted 1 email(s)\n",
      "191# Cleanup for info@news.thefork.com.au was successful. Deleted 0 email(s)\n"
     ]
    },
    {
     "data": {
      "application/vnd.jupyter.widget-view+json": {
       "model_id": "f7e26b283b2741e991f5fd3e04d71e87",
       "version_major": 2,
       "version_minor": 0
      },
      "text/plain": [
       "flybuys@edm.flybuys.com.au:   0%|          | 0/1 [00:00<?, ?it/s]"
      ]
     },
     "metadata": {},
     "output_type": "display_data"
    },
    {
     "name": "stdout",
     "output_type": "stream",
     "text": [
      "Deleted 1 email(s) for flybuys@edm.flybuys.com.au\n",
      "Checking for remaining emails...\n",
      "192# Cleanup for flybuys@edm.flybuys.com.au was successful. Deleted 1 email(s)\n",
      "193# Cleanup for friendsuggestion@facebookmail.com was successful. Deleted 0 email(s)\n",
      "194# Cleanup for hello@mail.ellabache.com.au was successful. Deleted 0 email(s)\n"
     ]
    },
    {
     "data": {
      "application/vnd.jupyter.widget-view+json": {
       "model_id": "667361840e9043968878c60fd8073eb1",
       "version_major": 2,
       "version_minor": 0
      },
      "text/plain": [
       "dominospizza@vip.dominos.com.au:   0%|          | 0/3 [00:00<?, ?it/s]"
      ]
     },
     "metadata": {},
     "output_type": "display_data"
    },
    {
     "name": "stdout",
     "output_type": "stream",
     "text": [
      "Deleted 3 email(s) for dominospizza@vip.dominos.com.au\n",
      "Checking for remaining emails...\n",
      "195# Cleanup for dominospizza@vip.dominos.com.au was successful. Deleted 3 email(s)\n"
     ]
    },
    {
     "data": {
      "application/vnd.jupyter.widget-view+json": {
       "model_id": "25d9c385fc234ca787b8dfa0e0ccb577",
       "version_major": 2,
       "version_minor": 0
      },
      "text/plain": [
       "email@e.countryroad.com.au:   0%|          | 0/1 [00:00<?, ?it/s]"
      ]
     },
     "metadata": {},
     "output_type": "display_data"
    },
    {
     "name": "stdout",
     "output_type": "stream",
     "text": [
      "Deleted 1 email(s) for email@e.countryroad.com.au\n",
      "Checking for remaining emails...\n",
      "196# Cleanup for email@e.countryroad.com.au was successful. Deleted 1 email(s)\n"
     ]
    },
    {
     "data": {
      "application/vnd.jupyter.widget-view+json": {
       "model_id": "20396163c6c94cab8c78532204686db9",
       "version_major": 2,
       "version_minor": 0
      },
      "text/plain": [
       "info@collectiveoutlet.co.nz:   0%|          | 0/1 [00:00<?, ?it/s]"
      ]
     },
     "metadata": {},
     "output_type": "display_data"
    },
    {
     "name": "stdout",
     "output_type": "stream",
     "text": [
      "Deleted 1 email(s) for info@collectiveoutlet.co.nz\n",
      "Checking for remaining emails...\n",
      "197# Cleanup for info@collectiveoutlet.co.nz was successful. Deleted 1 email(s)\n",
      "198# Cleanup for news@email.cruisecritic.com was successful. Deleted 0 email(s)\n"
     ]
    },
    {
     "data": {
      "application/vnd.jupyter.widget-view+json": {
       "model_id": "917b4d481c9148acbddbd493743af896",
       "version_major": 2,
       "version_minor": 0
      },
      "text/plain": [
       "powerhouse@powerhouse.com.au:   0%|          | 0/1 [00:00<?, ?it/s]"
      ]
     },
     "metadata": {},
     "output_type": "display_data"
    },
    {
     "name": "stdout",
     "output_type": "stream",
     "text": [
      "Deleted 1 email(s) for powerhouse@powerhouse.com.au\n",
      "Checking for remaining emails...\n",
      "199# Cleanup for powerhouse@powerhouse.com.au was successful. Deleted 1 email(s)\n"
     ]
    },
    {
     "data": {
      "application/vnd.jupyter.widget-view+json": {
       "model_id": "0cf376ca118c400fbf93432dc65854c2",
       "version_major": 2,
       "version_minor": 0
      },
      "text/plain": [
       "smile@edm.photobookshop.com.au:   0%|          | 0/1 [00:00<?, ?it/s]"
      ]
     },
     "metadata": {},
     "output_type": "display_data"
    },
    {
     "name": "stdout",
     "output_type": "stream",
     "text": [
      "Deleted 1 email(s) for smile@edm.photobookshop.com.au\n",
      "Checking for remaining emails...\n",
      "200# Cleanup for smile@edm.photobookshop.com.au was successful. Deleted 1 email(s)\n",
      "201# Cleanup for hello@cultivatewhatmatters.com was successful. Deleted 0 email(s)\n",
      "202# Cleanup for newsletter@notifications.lumosity.com was successful. Deleted 0 email(s)\n",
      "203# Cleanup for aoupdate@tenniscomms.com.au was successful. Deleted 0 email(s)\n",
      "204# Cleanup for hello@breathe.calm.com was successful. Deleted 0 email(s)\n",
      "205# Cleanup for noreply@promotions.airasia.com was successful. Deleted 0 email(s)\n"
     ]
    },
    {
     "data": {
      "application/vnd.jupyter.widget-view+json": {
       "model_id": "92bea6ec20194be39329b9fa9ee70ac8",
       "version_major": 2,
       "version_minor": 0
      },
      "text/plain": [
       "10play@media.10play.com.au:   0%|          | 0/1 [00:00<?, ?it/s]"
      ]
     },
     "metadata": {},
     "output_type": "display_data"
    },
    {
     "name": "stdout",
     "output_type": "stream",
     "text": [
      "Deleted 1 email(s) for 10play@media.10play.com.au\n",
      "Checking for remaining emails...\n",
      "206# Cleanup for 10play@media.10play.com.au was successful. Deleted 1 email(s)\n",
      "207# Cleanup for reservationsdarlinghurst@atavola.com.au was successful. Deleted 0 email(s)\n",
      "208# Cleanup for news@email.accorstadium.com.au was successful. Deleted 0 email(s)\n",
      "209# Cleanup for contact@pilat.boutina.com was successful. Deleted 0 email(s)\n",
      "210# Cleanup for kayte@actingandcommunication.sydney was successful. Deleted 0 email(s)\n",
      "211# Cleanup for insider@adelaidefestival.com.au was successful. Deleted 0 email(s)\n",
      "212# Cleanup for contact@adma.com.au was successful. Deleted 0 email(s)\n",
      "213# Cleanup for demand@mail.adobe.com was successful. Deleted 0 email(s)\n",
      "214# Cleanup for edm@email.booktopia.com.au was successful. Deleted 0 email(s)\n",
      "215# Cleanup for booklover@e.dymocks.com.au was successful. Deleted 0 email(s)\n",
      "216# Cleanup for huononline@huonaqua.com.au was successful. Deleted 0 email(s)\n"
     ]
    },
    {
     "data": {
      "application/vnd.jupyter.widget-view+json": {
       "model_id": "aac6b04b6e694f88a688c89f6e7351cc",
       "version_major": 2,
       "version_minor": 0
      },
      "text/plain": [
       "deals@email.jbhifi.com.au:   0%|          | 0/3 [00:00<?, ?it/s]"
      ]
     },
     "metadata": {},
     "output_type": "display_data"
    },
    {
     "name": "stdout",
     "output_type": "stream",
     "text": [
      "Deleted 3 email(s) for deals@email.jbhifi.com.au\n",
      "Checking for remaining emails...\n",
      "217# Cleanup for deals@email.jbhifi.com.au was successful. Deleted 3 email(s)\n",
      "218# Cleanup for donotreply@morningstar.com was successful. Deleted 0 email(s)\n"
     ]
    },
    {
     "data": {
      "application/vnd.jupyter.widget-view+json": {
       "model_id": "7555947b687b4e0586dba109178f92a7",
       "version_major": 2,
       "version_minor": 0
      },
      "text/plain": [
       "access@interactive.wsj.com:   0%|          | 0/4 [00:00<?, ?it/s]"
      ]
     },
     "metadata": {},
     "output_type": "display_data"
    },
    {
     "name": "stdout",
     "output_type": "stream",
     "text": [
      "Deleted 4 email(s) for access@interactive.wsj.com\n",
      "Checking for remaining emails...\n",
      "219# Cleanup for access@interactive.wsj.com was successful. Deleted 4 email(s)\n",
      "220# Cleanup for newsletters@nl.technologyadvice.com was successful. Deleted 0 email(s)\n",
      "221# Cleanup for no-reply@harajukugyoza.com was successful. Deleted 0 email(s)\n"
     ]
    },
    {
     "data": {
      "application/vnd.jupyter.widget-view+json": {
       "model_id": "82bd39f9b6e642b3b7d129c6ced1ad24",
       "version_major": 2,
       "version_minor": 0
      },
      "text/plain": [
       "no-reply@e.hungryjacks.com.au:   0%|          | 0/1 [00:00<?, ?it/s]"
      ]
     },
     "metadata": {},
     "output_type": "display_data"
    },
    {
     "name": "stdout",
     "output_type": "stream",
     "text": [
      "Deleted 1 email(s) for no-reply@e.hungryjacks.com.au\n",
      "Checking for remaining emails...\n",
      "222# Cleanup for no-reply@e.hungryjacks.com.au was successful. Deleted 1 email(s)\n"
     ]
    },
    {
     "data": {
      "application/vnd.jupyter.widget-view+json": {
       "model_id": "2b3bde69cb384e90b0b64980a88390a1",
       "version_major": 2,
       "version_minor": 0
      },
      "text/plain": [
       "contacts@email.woolworthsrewards.com.au:   0%|          | 0/2 [00:00<?, ?it/s]"
      ]
     },
     "metadata": {},
     "output_type": "display_data"
    },
    {
     "name": "stdout",
     "output_type": "stream",
     "text": [
      "Deleted 2 email(s) for contacts@email.woolworthsrewards.com.au\n",
      "Checking for remaining emails...\n",
      "223# Cleanup for contacts@email.woolworthsrewards.com.au was successful. Deleted 2 email(s)\n"
     ]
    },
    {
     "data": {
      "application/vnd.jupyter.widget-view+json": {
       "model_id": "d1bfb93540cb492d9318757e1f3a2262",
       "version_major": 2,
       "version_minor": 0
      },
      "text/plain": [
       "thankyou@edm.clickfrenzy.com.au:   0%|          | 0/2 [00:00<?, ?it/s]"
      ]
     },
     "metadata": {},
     "output_type": "display_data"
    },
    {
     "name": "stdout",
     "output_type": "stream",
     "text": [
      "Deleted 2 email(s) for thankyou@edm.clickfrenzy.com.au\n",
      "Checking for remaining emails...\n",
      "224# Cleanup for thankyou@edm.clickfrenzy.com.au was successful. Deleted 2 email(s)\n",
      "225# Cleanup for no-reply@news.ritual.co was successful. Deleted 0 email(s)\n",
      "226# Cleanup for email@e.luxuryescapes.com was successful. Deleted 0 email(s)\n",
      "227# Cleanup for marketing_at_engage_canva_com_4qf7xngqrn_68f406af@privaterelay.appleid.com was successful. Deleted 0 email(s)\n",
      "228# Cleanup for jobmail@s.seek.com.au was successful. Deleted 0 email(s)\n"
     ]
    },
    {
     "data": {
      "application/vnd.jupyter.widget-view+json": {
       "model_id": "2838a5ed3c5043818340fdd46ca8231f",
       "version_major": 2,
       "version_minor": 0
      },
      "text/plain": [
       "newsletter@news.theiconic.com.au:   0%|          | 0/1 [00:00<?, ?it/s]"
      ]
     },
     "metadata": {},
     "output_type": "display_data"
    },
    {
     "name": "stdout",
     "output_type": "stream",
     "text": [
      "Deleted 1 email(s) for newsletter@news.theiconic.com.au\n",
      "Checking for remaining emails...\n",
      "229# Cleanup for newsletter@news.theiconic.com.au was successful. Deleted 1 email(s)\n",
      "230# Cleanup for info@titanpowerplus.com was successful. Deleted 0 email(s)\n",
      "231# Cleanup for team@datacamp.com was successful. Deleted 0 email(s)\n",
      "232# Cleanup for nytdirect@nytimes.com was successful. Deleted 0 email(s)\n",
      "233# Cleanup for Coursera@email.coursera.org was successful. Deleted 0 email(s)\n",
      "234# Cleanup for birkenheadpoint@e.retail.mirvac.com was successful. Deleted 0 email(s)\n",
      "235# Cleanup for info@response.tafensw.edu.au was successful. Deleted 0 email(s)\n"
     ]
    },
    {
     "data": {
      "application/vnd.jupyter.widget-view+json": {
       "model_id": "4a2abaf269ab484b82da3d08cef7f244",
       "version_major": 2,
       "version_minor": 0
      },
      "text/plain": [
       "telegraph@emails.telegraph.co.uk:   0%|          | 0/2 [00:00<?, ?it/s]"
      ]
     },
     "metadata": {},
     "output_type": "display_data"
    },
    {
     "name": "stdout",
     "output_type": "stream",
     "text": [
      "Deleted 2 email(s) for telegraph@emails.telegraph.co.uk\n",
      "Checking for remaining emails...\n",
      "236# Cleanup for telegraph@emails.telegraph.co.uk was successful. Deleted 2 email(s)\n",
      "The email '' is not valid\n",
      "The cleanup was successful. Deleted 114 email(s)\n"
     ]
    }
   ],
   "source": [
    "TARGET_EMAILS_FILE = \"target_email_address.txt\"\n",
    "target_emails = []\n",
    "target_emails = list(dict.fromkeys(import_emails_from_file(TARGET_EMAILS_FILE)))\n",
    "total_emails_count = connect_and_clean(config, target_emails)"
   ]
  },
  {
   "cell_type": "code",
   "execution_count": 22,
   "metadata": {},
   "outputs": [
    {
     "data": {
      "text/plain": [
       "114"
      ]
     },
     "execution_count": 22,
     "metadata": {},
     "output_type": "execute_result"
    }
   ],
   "source": [
    "total_emails_count"
   ]
  },
  {
   "cell_type": "markdown",
   "metadata": {},
   "source": []
  },
  {
   "cell_type": "code",
   "execution_count": 23,
   "metadata": {},
   "outputs": [],
   "source": [
    "#! pdm list | grep tqdm\n",
    "# tqdm                     │ 4.66.1"
   ]
  },
  {
   "cell_type": "code",
   "execution_count": 24,
   "metadata": {},
   "outputs": [
    {
     "name": "stdout",
     "output_type": "stream",
     "text": [
      "│ \u001b[1;32mnotebook\u001b[0m                 │ \u001b[33m6.5.4\u001b[0m        │          │\n",
      "│ \u001b[1;32mjupyter_client\u001b[0m           │ \u001b[33m8.2.0\u001b[0m        │          │\n",
      "│ \u001b[1;32mjupyterlab-widgets\u001b[0m       │ \u001b[33m3.0.9\u001b[0m        │          │\n",
      "│ \u001b[1;32mjupyter_server_terminals\u001b[0m │ \u001b[33m0.4.4\u001b[0m        │          │\n",
      "│ \u001b[1;32mjupyter-events\u001b[0m           │ \u001b[33m0.6.3\u001b[0m        │          │\n",
      "│ \u001b[1;32mjupyter_core\u001b[0m             │ \u001b[33m5.3.0\u001b[0m        │          │\n",
      "│ \u001b[1;32mnotebook_shim\u001b[0m            │ \u001b[33m0.2.3\u001b[0m        │          │\n",
      "│ \u001b[1;32mjupyterlab-pygments\u001b[0m      │ \u001b[33m0.2.2\u001b[0m        │          │\n",
      "│ \u001b[1;32mjupyter_server\u001b[0m           │ \u001b[33m2.6.0\u001b[0m        │          │\n"
     ]
    }
   ],
   "source": [
    "!pdm list | grep -E 'jupyter|notebook'"
   ]
  },
  {
   "cell_type": "code",
   "execution_count": 25,
   "metadata": {},
   "outputs": [
    {
     "ename": "NameError",
     "evalue": "name 'disp_md' is not defined",
     "output_type": "error",
     "traceback": [
      "\u001b[0;31m---------------------------------------------------------------------------\u001b[0m",
      "\u001b[0;31mNameError\u001b[0m                                 Traceback (most recent call last)",
      "Cell \u001b[0;32mIn[25], line 1\u001b[0m\n\u001b[0;32m----> 1\u001b[0m \u001b[43mdisp_md\u001b[49m(\u001b[38;5;124mf\u001b[39m\u001b[38;5;124m\"\u001b[39m\u001b[38;5;124mINFO: Notebook execution started at: \u001b[39m\u001b[38;5;132;01m{\u001b[39;00mstart_time\u001b[38;5;132;01m}\u001b[39;00m\u001b[38;5;130;01m\\n\u001b[39;00m\u001b[38;5;124m\"\u001b[39m)\n\u001b[1;32m      2\u001b[0m exec_time \u001b[38;5;241m=\u001b[39m execution_time(start_time)\n",
      "\u001b[0;31mNameError\u001b[0m: name 'disp_md' is not defined"
     ]
    }
   ],
   "source": [
    "disp_md(f\"INFO: Notebook execution started at: {start_time}\\n\")\n",
    "exec_time = execution_time(start_time)"
   ]
  }
 ],
 "metadata": {
  "kernelspec": {
   "display_name": ".venv",
   "language": "python",
   "name": "python3"
  },
  "language_info": {
   "codemirror_mode": {
    "name": "ipython",
    "version": 3
   },
   "file_extension": ".py",
   "mimetype": "text/x-python",
   "name": "python",
   "nbconvert_exporter": "python",
   "pygments_lexer": "ipython3",
   "version": "3.10.10"
  },
  "orig_nbformat": 4
 },
 "nbformat": 4,
 "nbformat_minor": 2
}
