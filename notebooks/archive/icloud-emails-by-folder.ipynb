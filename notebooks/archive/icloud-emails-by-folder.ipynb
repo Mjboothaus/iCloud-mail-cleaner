{
 "cells": [
  {
   "cell_type": "code",
   "execution_count": 7,
   "metadata": {},
   "outputs": [],
   "source": [
    "import re\n",
    "import imaplib\n",
    "from configobj import ConfigObj"
   ]
  },
  {
   "cell_type": "code",
   "execution_count": 8,
   "metadata": {},
   "outputs": [],
   "source": [
    "def connect(config):\n",
    "    email_connection = imaplib.IMAP4_SSL(config[\"imap_server\"], config[\"imap_port\"])\n",
    "    email_connection.login(config[\"username\"], config[\"password\"])\n",
    "    print(f\"Successfully connected to {config['username']}@icloud.com\")\n",
    "    return email_connection"
   ]
  },
  {
   "cell_type": "code",
   "execution_count": 29,
   "metadata": {},
   "outputs": [],
   "source": [
    "\n",
    "def count_emails(mail):\n",
    "    response, data = mail.list('\"\"', '*')\n",
    "    print(data[0].decode())\n",
    "    folders = re.findall(r'\\b(?=\\w)\"(.*?)\"', data[0].decode())\n",
    "\n",
    "    print(folders)\n",
    "    email_counts = {}\n",
    "    for folder in folders:\n",
    "        mail.select(folder)\n",
    "        response, data = mail.search(None, 'ALL')\n",
    "        email_counts[folder] = len(data[0].split())\n",
    "\n",
    "    return email_counts"
   ]
  },
  {
   "cell_type": "code",
   "execution_count": 30,
   "metadata": {},
   "outputs": [],
   "source": [
    "config = ConfigObj(\"config.ini\")"
   ]
  },
  {
   "cell_type": "code",
   "execution_count": 31,
   "metadata": {},
   "outputs": [
    {
     "name": "stdout",
     "output_type": "stream",
     "text": [
      "Successfully connected to boothchin@icloud.com\n"
     ]
    }
   ],
   "source": [
    "mail = connect(config)"
   ]
  },
  {
   "cell_type": "code",
   "execution_count": 32,
   "metadata": {},
   "outputs": [
    {
     "name": "stdout",
     "output_type": "stream",
     "text": [
      "() \"/\" \"Sent Items\"\n",
      "[]\n"
     ]
    }
   ],
   "source": [
    "email_counts = count_emails(mail)"
   ]
  },
  {
   "cell_type": "code",
   "execution_count": null,
   "metadata": {},
   "outputs": [],
   "source": []
  }
 ],
 "metadata": {
  "kernelspec": {
   "display_name": ".venv",
   "language": "python",
   "name": "python3"
  },
  "language_info": {
   "codemirror_mode": {
    "name": "ipython",
    "version": 3
   },
   "file_extension": ".py",
   "mimetype": "text/x-python",
   "name": "python",
   "nbconvert_exporter": "python",
   "pygments_lexer": "ipython3",
   "version": "3.10.10"
  },
  "orig_nbformat": 4
 },
 "nbformat": 4,
 "nbformat_minor": 2
}
