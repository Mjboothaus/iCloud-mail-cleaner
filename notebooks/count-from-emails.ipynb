{
 "cells": [
  {
   "cell_type": "code",
   "execution_count": null,
   "metadata": {},
   "outputs": [],
   "source": [
    "import email\n",
    "import os\n",
    "from collections import Counter\n",
    "\n",
    "from dotenv import load_dotenv\n",
    "from imapclient import IMAPClient\n",
    "from tqdm.autonotebook import tqdm"
   ]
  },
  {
   "cell_type": "code",
   "execution_count": 2,
   "metadata": {},
   "outputs": [],
   "source": [
    "# Load environment variables from .env file\n",
    "load_dotenv()\n",
    "\n",
    "# iCloud IMAP server details\n",
    "imap_host = 'imap.mail.me.com'\n",
    "imap_port = 993\n",
    "\n",
    "# User login details from environment variables\n",
    "icloud_email = os.getenv('ICLOUD_USERNAME')\n",
    "app_specific_password = os.getenv('ICLOUD_PASSWORD')"
   ]
  },
  {
   "cell_type": "code",
   "execution_count": null,
   "metadata": {},
   "outputs": [],
   "source": [
    "# Connect to iCloud IMAP server\n",
    "imap_server = IMAPClient(imap_host, use_uid=True)\n",
    "\n",
    "# Login to the server\n",
    "imap_server.login(icloud_email, app_specific_password)"
   ]
  },
  {
   "cell_type": "code",
   "execution_count": null,
   "metadata": {},
   "outputs": [],
   "source": [
    "# Select the mailbox you want to search\n",
    "imap_server.select_folder('INBOX')\n",
    "\n",
    "# Search for all messages\n",
    "messages = imap_server.search(['ALL'])\n",
    "\n",
    "from_addresses = []\n",
    "\n",
    "for msg_id in tqdm(messages[:20]):\n",
    "    raw_message_data = imap_server.fetch(msg_id, ['BODY[HEADER]'])\n",
    "    if raw_message_data and msg_id in raw_message_data and b'BODY[HEADER]' in raw_message_data[msg_id]:\n",
    "        raw_headers = raw_message_data[msg_id][b'BODY[HEADER]']\n",
    "        email_message = email.message_from_bytes(raw_headers)\n",
    "        \n",
    "        if email_message['from']:\n",
    "            from_address = email.utils.parseaddr(email_message['from'])[1]\n",
    "            from_addresses.append(from_address)\n"
   ]
  },
  {
   "cell_type": "code",
   "execution_count": null,
   "metadata": {},
   "outputs": [],
   "source": [
    "# Count occurrences of each email address\n",
    "email_counts = Counter(from_addresses)\n",
    "\n",
    "# Print results\n",
    "for email_address, count in email_counts.most_common():\n",
    "    print(f\"{email_address}: {count}\")\n",
    "\n",
    "imap_server.logout()\n"
   ]
  },
  {
   "cell_type": "code",
   "execution_count": null,
   "metadata": {},
   "outputs": [],
   "source": []
  }
 ],
 "metadata": {
  "kernelspec": {
   "display_name": ".venv",
   "language": "python",
   "name": "python3"
  },
  "language_info": {
   "codemirror_mode": {
    "name": "ipython",
    "version": 3
   },
   "file_extension": ".py",
   "mimetype": "text/x-python",
   "name": "python",
   "nbconvert_exporter": "python",
   "pygments_lexer": "ipython3",
   "version": "3.13.1"
  }
 },
 "nbformat": 4,
 "nbformat_minor": 2
}
