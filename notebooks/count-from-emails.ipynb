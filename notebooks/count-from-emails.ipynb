{
 "cells": [
  {
   "cell_type": "code",
   "execution_count": 1,
   "metadata": {},
   "outputs": [
    {
     "name": "stderr",
     "output_type": "stream",
     "text": [
      "/var/folders/pf/662q3gzd6413np78gpd4p9hr0000gn/T/ipykernel_81866/1371890716.py:9: TqdmExperimentalWarning: Using `tqdm.autonotebook.tqdm` in notebook mode. Use `tqdm.tqdm` instead to force console mode (e.g. in jupyter console)\n",
      "  from tqdm.autonotebook import tqdm\n"
     ]
    }
   ],
   "source": [
    "import email.utils\n",
    "import os\n",
    "import re\n",
    "import time\n",
    "from collections import Counter\n",
    "\n",
    "from dotenv import load_dotenv\n",
    "from imapclient import IMAPClient\n",
    "from tqdm.autonotebook import tqdm"
   ]
  },
  {
   "cell_type": "code",
   "execution_count": 2,
   "metadata": {},
   "outputs": [],
   "source": [
    "# Load environment variables from .env file\n",
    "load_dotenv()\n",
    "\n",
    "# iCloud IMAP server details\n",
    "imap_host = 'imap.mail.me.com'\n",
    "imap_port = 993\n",
    "\n",
    "# User login details from environment variables\n",
    "icloud_email = os.getenv('ICLOUD_USERNAME')\n",
    "app_specific_password = os.getenv('ICLOUD_PASSWORD')"
   ]
  },
  {
   "cell_type": "code",
   "execution_count": 3,
   "metadata": {},
   "outputs": [
    {
     "data": {
      "text/plain": [
       "b'user boothchin logged in'"
      ]
     },
     "execution_count": 3,
     "metadata": {},
     "output_type": "execute_result"
    }
   ],
   "source": [
    "# Connect to iCloud IMAP server\n",
    "imap_server = IMAPClient(imap_host, use_uid=True)\n",
    "imap_server.login(icloud_email, app_specific_password)"
   ]
  },
  {
   "cell_type": "code",
   "execution_count": 4,
   "metadata": {},
   "outputs": [
    {
     "data": {
      "application/vnd.jupyter.widget-view+json": {
       "model_id": "28a4b1df6c4146c19c21e74d87bca982",
       "version_major": 2,
       "version_minor": 0
      },
      "text/plain": [
       "Processing emails:   0%|          | 0/68964 [00:00<?, ?email/s]"
      ]
     },
     "metadata": {},
     "output_type": "display_data"
    },
    {
     "name": "stdout",
     "output_type": "stream",
     "text": [
      "Error fetching batch 44000-46000: fetch failed: [UNAVAILABLE] Internal server error (took 39604 ms)\n",
      "Retrying...\n",
      "Error fetching batch 44000-46000: fetch failed: [UNAVAILABLE] Internal server error (took 20469 ms)\n",
      "Retrying...\n",
      "Error fetching batch 44000-46000: fetch failed: [UNAVAILABLE] Internal server error (took 37266 ms)\n",
      "Skipping this batch after multiple failed attempts.\n",
      "Error fetching batch 60000-62000: fetch failed: [UNAVAILABLE] Internal server error (took 7472 ms)\n",
      "Retrying...\n",
      "Error fetching batch 60000-62000: fetch failed: [UNAVAILABLE] Internal server error (took 7114 ms)\n",
      "Retrying...\n",
      "Error fetching batch 60000-62000: fetch failed: [UNAVAILABLE] Internal server error (took 7802 ms)\n",
      "Skipping this batch after multiple failed attempts.\n",
      "Error fetching batch 62000-64000: fetch failed: [UNAVAILABLE] Internal server error (took 9254 ms)\n",
      "Retrying...\n",
      "Error fetching batch 62000-64000: fetch failed: [UNAVAILABLE] Internal server error (took 26348 ms)\n",
      "Retrying...\n",
      "Error fetching batch 62000-64000: fetch failed: [UNAVAILABLE] Internal server error (took 23659 ms)\n",
      "Skipping this batch after multiple failed attempts.\n",
      "Error fetching batch 64000-66000: fetch failed: [UNAVAILABLE] Server Busy. Please try again later. (took 39096 ms)\n",
      "Retrying...\n",
      "Error fetching batch 64000-66000: fetch failed: [UNAVAILABLE] Server Busy. Please try again later. (took 18720 ms)\n",
      "Retrying...\n",
      "Error fetching batch 64000-66000: fetch failed: [UNAVAILABLE] Unexpected exception (took 21290 ms)\n",
      "Skipping this batch after multiple failed attempts.\n",
      "Error fetching batch 68000-70000: fetch failed: [UNAVAILABLE] Server Busy. Please try again later. (took 14060 ms)\n",
      "Retrying...\n",
      "Error fetching batch 68000-70000: fetch failed: [UNAVAILABLE] Server Busy. Please try again later. (took 14175 ms)\n",
      "Retrying...\n",
      "Error fetching batch 68000-70000: fetch failed: [UNAVAILABLE] Server Busy. Please try again later. (took 14906 ms)\n",
      "Skipping this batch after multiple failed attempts.\n"
     ]
    }
   ],
   "source": [
    "# Select the mailbox you want to search\n",
    "imap_server.select_folder('INBOX')\n",
    "messages = imap_server.search(['ALL'])\n",
    "\n",
    "batch_size = 2000\n",
    "chunk_size = 10000\n",
    "from_addresses = []\n",
    "all_from_addresses = []\n",
    "unexpected_header_ids = []  # List to collect message IDs with unexpected headers\n",
    "\n",
    "total_messages = len(messages)\n",
    "processed_messages = 0\n",
    "\n",
    "email_pattern = re.compile(r'\\b[A-Za-z0-9._%+-]+@[A-Za-z0-9.-]+\\.[A-Z|a-z]{2,}\\b')\n",
    "\n",
    "with tqdm(total=total_messages, desc=\"Processing emails\", unit=\"email\") as pbar:\n",
    "    for i in range(0, total_messages, batch_size):\n",
    "        batch = messages[i:i + batch_size]\n",
    "        \n",
    "        # Retry logic for fetch command\n",
    "        retries = 3\n",
    "        while retries > 0:\n",
    "            try:\n",
    "                fetch_data = imap_server.fetch(batch, ['BODY[HEADER]'])\n",
    "                break  # Exit the retry loop if successful\n",
    "            except Exception as e:\n",
    "                print(f\"Error fetching batch {i}-{i + batch_size}: {e}\")\n",
    "                retries -= 1\n",
    "                if retries > 0:\n",
    "                    print(\"Retrying...\")\n",
    "                    time.sleep(5)  # Wait for 5 seconds before retrying\n",
    "                else:\n",
    "                    print(\"Skipping this batch after multiple failed attempts.\")\n",
    "                    fetch_data = {}  # Skip this batch by setting an empty result\n",
    "        \n",
    "        for msg_id, data in fetch_data.items():\n",
    "            if b'BODY[HEADER]' in data:\n",
    "                header_data = data[b'BODY[HEADER]'].decode('utf-8', errors='ignore')\n",
    "                from_match = re.search(r'From:\\s*(.*?)\\r\\n', header_data, re.IGNORECASE)\n",
    "                if from_match:\n",
    "                    from_header = from_match.group(1)\n",
    "                    email_address = email.utils.parseaddr(from_header)[1].lower()\n",
    "                    if email_pattern.match(email_address):\n",
    "                        from_addresses.append(email_address)\n",
    "                else:\n",
    "                    # Collect message ID if 'From' header is not found\n",
    "                    unexpected_header_ids.append(msg_id)\n",
    "            else:\n",
    "                # Collect message ID if BODY[HEADER] is not present\n",
    "                unexpected_header_ids.append(msg_id)\n",
    "\n",
    "            processed_messages += 1\n",
    "            pbar.update(1)\n",
    "\n",
    "        # Process in chunks and write intermediate results\n",
    "        if len(from_addresses) >= chunk_size:\n",
    "            email_counts = Counter(from_addresses)\n",
    "\n",
    "            # Write intermediate results\n",
    "            with open(f'../data/results_{i}.txt', 'w') as f:\n",
    "                for email_address, count in email_counts.most_common():\n",
    "                    f.write(f\"{email_address}: {count}\\n\")\n",
    "\n",
    "            # Clear from_addresses to free up memory\n",
    "            all_from_addresses.append(from_addresses)\n",
    "            from_addresses.clear()\n",
    "\n",
    "        # Update progress bar description\n",
    "        pbar.set_description(f\"Processed {processed_messages}/{total_messages} emails\")\n",
    "\n",
    "# Process any remaining addresses\n",
    "if from_addresses:\n",
    "    all_from_addresses.append(from_addresses)\n",
    "    email_counts = Counter(from_addresses)\n",
    "    with open('../data/results_final.txt', 'w') as f:\n",
    "        for email_address, count in email_counts.most_common():\n",
    "            f.write(f\"{email_address}: {count}\\n\")\n",
    "\n",
    "\n",
    "# Print or log unexpected header IDs\n",
    "#if unexpected_header_ids:\n",
    "#    print(\"Message IDs with unexpected headers:\", unexpected_header_ids)\n"
   ]
  },
  {
   "cell_type": "code",
   "execution_count": 6,
   "metadata": {},
   "outputs": [
    {
     "data": {
      "text/plain": [
       "[[], []]"
      ]
     },
     "execution_count": 6,
     "metadata": {},
     "output_type": "execute_result"
    }
   ],
   "source": [
    "all_from_addresses"
   ]
  },
  {
   "cell_type": "code",
   "execution_count": 5,
   "metadata": {},
   "outputs": [
    {
     "data": {
      "text/plain": [
       "b''"
      ]
     },
     "execution_count": 5,
     "metadata": {},
     "output_type": "execute_result"
    }
   ],
   "source": [
    "# Count occurrences of each email address\n",
    "email_counts = Counter(from_addresses)\n",
    "\n",
    "# Print results\n",
    "for email_address, count in email_counts.most_common():\n",
    "    print(f\"{email_address}: {count}\")\n",
    "\n",
    "imap_server.logout()\n"
   ]
  },
  {
   "cell_type": "code",
   "execution_count": null,
   "metadata": {},
   "outputs": [],
   "source": []
  }
 ],
 "metadata": {
  "kernelspec": {
   "display_name": ".venv",
   "language": "python",
   "name": "python3"
  },
  "language_info": {
   "codemirror_mode": {
    "name": "ipython",
    "version": 3
   },
   "file_extension": ".py",
   "mimetype": "text/x-python",
   "name": "python",
   "nbconvert_exporter": "python",
   "pygments_lexer": "ipython3",
   "version": "3.13.2"
  }
 },
 "nbformat": 4,
 "nbformat_minor": 2
}
