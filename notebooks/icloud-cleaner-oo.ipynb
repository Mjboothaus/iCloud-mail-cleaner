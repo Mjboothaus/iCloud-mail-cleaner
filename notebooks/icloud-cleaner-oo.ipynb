{
 "cells": [
  {
   "cell_type": "code",
   "execution_count": 1,
   "metadata": {},
   "outputs": [
    {
     "name": "stdout",
     "output_type": "stream",
     "text": [
      "Added parent directory /Users/mjboothaus/code/github/mjboothaus to PYTHONPATH\n"
     ]
    }
   ],
   "source": [
    "from notebook_helper import notebook_add_parent_dir_to_path\n",
    "notebook_add_parent_dir_to_path()"
   ]
  },
  {
   "cell_type": "code",
   "execution_count": 2,
   "metadata": {},
   "outputs": [],
   "source": [
    "from src.icloud_mail_cleaner import ICloudCleaner"
   ]
  },
  {
   "cell_type": "code",
   "execution_count": 3,
   "metadata": {},
   "outputs": [
    {
     "name": "stdout",
     "output_type": "stream",
     "text": [
      "INFO: Imported 251 emails from /Users/mjboothaus/code/github/mjboothaus/iCloud-mail-cleaner/target_email_address.txt\n"
     ]
    },
    {
     "data": {
      "application/vnd.jupyter.widget-view+json": {
       "model_id": "974b693fcbd84edaad3bebed114c3813",
       "version_major": 2,
       "version_minor": 0
      },
      "text/plain": [
       "Total emails:   0%|          | 0/251 [00:00<?, ?it/s]"
      ]
     },
     "metadata": {},
     "output_type": "display_data"
    },
    {
     "data": {
      "application/vnd.jupyter.widget-view+json": {
       "model_id": "7dd8ea3dfd3246ee84e86cb258b7e9f2",
       "version_major": 2,
       "version_minor": 0
      },
      "text/plain": [
       "ziera@e.zierashoes.com:   0%|          | 0/1 [00:00<?, ?it/s]"
      ]
     },
     "metadata": {},
     "output_type": "display_data"
    },
    {
     "name": "stdout",
     "output_type": "stream",
     "text": [
      "Total emails deleted: 1\n"
     ]
    }
   ],
   "source": [
    "# Use file based approach - should pass the filename as an argument \n",
    "\n",
    "cleaner = ICloudCleaner(\"config.ini\")\n",
    "total_emails_count = cleaner.clean_mailbox(close_mail_app=True)\n",
    "print(f\"Total emails deleted: {total_emails_count}\")"
   ]
  },
  {
   "cell_type": "code",
   "execution_count": null,
   "metadata": {},
   "outputs": [],
   "source": [
    "# Clean by passing a list of email addresses (instead of file)\n",
    "\n",
    "emails_list_eg = [\"ae-news.a0@deals.aliexpress.com\", \"no-reply@mail.instagram.com\"]\n",
    "\n",
    "cleaner = ICloudCleaner(\"config.ini\")\n",
    "total_emails_count = cleaner.clean_mailbox(emails_list_eg, close_mail_app=True)\n",
    "print(f\"Total emails deleted: {total_emails_count}\")"
   ]
  },
  {
   "cell_type": "code",
   "execution_count": null,
   "metadata": {},
   "outputs": [],
   "source": [
    "# import pytest"
   ]
  },
  {
   "cell_type": "code",
   "execution_count": null,
   "metadata": {},
   "outputs": [],
   "source": [
    "#     # ICloudCleaner raises an error if the config file path is invalid.\n",
    "\n",
    "# config_file = \"invalid_config.ini\"\n",
    "\n",
    "# def test_invalid_config_file_path():\n",
    "#     print()\n",
    "#     with pytest.raises(FileNotFoundError) as pyt_error:\n",
    "#         ICloudCleaner(config_file)"
   ]
  },
  {
   "cell_type": "code",
   "execution_count": null,
   "metadata": {},
   "outputs": [],
   "source": [
    "import subprocess"
   ]
  },
  {
   "cell_type": "code",
   "execution_count": null,
   "metadata": {},
   "outputs": [],
   "source": [
    "def is_mail_app_running():\n",
    "    try:\n",
    "        script = 'tell application \"System Events\" to (name of processes) contains \"Mail\"'\n",
    "        result = subprocess.run(\n",
    "            [\"osascript\", \"-e\", script], capture_output=True, text=True\n",
    "        )\n",
    "        return \"true\" in result.stdout.lower()\n",
    "    except Exception as e:\n",
    "        #logging.error\n",
    "        print(f\"Error checking if Mail app is running: {e}\")\n",
    "        return False"
   ]
  },
  {
   "cell_type": "code",
   "execution_count": null,
   "metadata": {},
   "outputs": [],
   "source": [
    "is_mail_app_running()"
   ]
  },
  {
   "cell_type": "code",
   "execution_count": null,
   "metadata": {},
   "outputs": [],
   "source": []
  }
 ],
 "metadata": {
  "kernelspec": {
   "display_name": ".venv",
   "language": "python",
   "name": "python3"
  },
  "language_info": {
   "codemirror_mode": {
    "name": "ipython",
    "version": 3
   },
   "file_extension": ".py",
   "mimetype": "text/x-python",
   "name": "python",
   "nbconvert_exporter": "python",
   "pygments_lexer": "ipython3",
   "version": "3.10.10"
  }
 },
 "nbformat": 4,
 "nbformat_minor": 2
}
