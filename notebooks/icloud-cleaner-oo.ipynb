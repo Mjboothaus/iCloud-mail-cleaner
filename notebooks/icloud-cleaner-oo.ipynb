{
 "cells": [
  {
   "cell_type": "code",
   "execution_count": 1,
   "metadata": {},
   "outputs": [
    {
     "name": "stdout",
     "output_type": "stream",
     "text": [
      "Added parent directory /Users/mjboothaus/code/github/mjboothaus/iCloud-mail-cleaner to PYTHONPATH\n"
     ]
    }
   ],
   "source": [
    "from notebook_helper import notebook_add_parent_dir_to_path\n",
    "notebook_add_parent_dir_to_path()"
   ]
  },
  {
   "cell_type": "code",
   "execution_count": 2,
   "metadata": {},
   "outputs": [],
   "source": [
    "from src.icloud_mail_cleaner import ICloudCleaner"
   ]
  },
  {
   "cell_type": "code",
   "execution_count": 4,
   "metadata": {},
   "outputs": [
    {
     "name": "stdout",
     "output_type": "stream",
     "text": [
      "ERROR: /Users/mjboothaus/code/github/mjboothaus/iCloud-mail-cleaner/target_email_address.txt not found.\n"
     ]
    },
    {
     "ename": "ValueError",
     "evalue": "No target emails provided.",
     "output_type": "error",
     "traceback": [
      "\u001b[0;31m---------------------------------------------------------------------------\u001b[0m",
      "\u001b[0;31mValueError\u001b[0m                                Traceback (most recent call last)",
      "Cell \u001b[0;32mIn[4], line 4\u001b[0m\n\u001b[1;32m      1\u001b[0m \u001b[38;5;66;03m# Use file based approach - should pass the filename as an argument \u001b[39;00m\n\u001b[1;32m      3\u001b[0m cleaner \u001b[38;5;241m=\u001b[39m ICloudCleaner(\u001b[38;5;124m\"\u001b[39m\u001b[38;5;124m../config.ini\u001b[39m\u001b[38;5;124m\"\u001b[39m)\n\u001b[0;32m----> 4\u001b[0m total_emails_count \u001b[38;5;241m=\u001b[39m \u001b[43mcleaner\u001b[49m\u001b[38;5;241;43m.\u001b[39;49m\u001b[43mclean_mailbox\u001b[49m\u001b[43m(\u001b[49m\u001b[43mclose_mail_app\u001b[49m\u001b[38;5;241;43m=\u001b[39;49m\u001b[38;5;28;43;01mTrue\u001b[39;49;00m\u001b[43m)\u001b[49m\n\u001b[1;32m      5\u001b[0m \u001b[38;5;28mprint\u001b[39m(\u001b[38;5;124mf\u001b[39m\u001b[38;5;124m\"\u001b[39m\u001b[38;5;124mTotal emails deleted: \u001b[39m\u001b[38;5;132;01m{\u001b[39;00mtotal_emails_count\u001b[38;5;132;01m}\u001b[39;00m\u001b[38;5;124m\"\u001b[39m)\n",
      "File \u001b[0;32m~/code/github/mjboothaus/iCloud-mail-cleaner/src/icloud_mail_cleaner.py:108\u001b[0m, in \u001b[0;36mICloudCleaner.clean_mailbox\u001b[0;34m(self, close_mail_app, target_emails)\u001b[0m\n\u001b[1;32m    106\u001b[0m \u001b[38;5;28;01mif\u001b[39;00m \u001b[38;5;129;01mnot\u001b[39;00m target_emails:\n\u001b[1;32m    107\u001b[0m     logging\u001b[38;5;241m.\u001b[39merror(\u001b[38;5;124m\"\u001b[39m\u001b[38;5;124mNo target emails provided.\u001b[39m\u001b[38;5;124m\"\u001b[39m)\n\u001b[0;32m--> 108\u001b[0m     \u001b[38;5;28;01mraise\u001b[39;00m \u001b[38;5;167;01mValueError\u001b[39;00m(\u001b[38;5;124m\"\u001b[39m\u001b[38;5;124mNo target emails provided.\u001b[39m\u001b[38;5;124m\"\u001b[39m)\n\u001b[1;32m    109\u001b[0m total_emails_count \u001b[38;5;241m=\u001b[39m \u001b[38;5;241m0\u001b[39m\n\u001b[1;32m    110\u001b[0m \u001b[38;5;28;01mfor\u001b[39;00m target_email \u001b[38;5;129;01min\u001b[39;00m tqdm(\n\u001b[1;32m    111\u001b[0m     target_emails, desc\u001b[38;5;241m=\u001b[39m\u001b[38;5;124m\"\u001b[39m\u001b[38;5;124mTotal emails\u001b[39m\u001b[38;5;124m\"\u001b[39m, total\u001b[38;5;241m=\u001b[39m\u001b[38;5;28mlen\u001b[39m(target_emails)\n\u001b[1;32m    112\u001b[0m ):\n",
      "\u001b[0;31mValueError\u001b[0m: No target emails provided."
     ]
    }
   ],
   "source": [
    "# Use file based approach - should pass the filename as an argument \n",
    "\n",
    "cleaner = ICloudCleaner(\"../config.ini\")\n",
    "total_emails_count = cleaner.clean_mailbox(close_mail_app=True)\n",
    "print(f\"Total emails deleted: {total_emails_count}\")"
   ]
  },
  {
   "cell_type": "code",
   "execution_count": null,
   "metadata": {},
   "outputs": [],
   "source": [
    "# Clean by passing a list of email addresses (instead of file)\n",
    "\n",
    "emails_list_eg = [\"ae-news.a0@deals.aliexpress.com\", \"no-reply@mail.instagram.com\"]\n",
    "\n",
    "cleaner = ICloudCleaner(\"config.ini\")\n",
    "total_emails_count = cleaner.clean_mailbox(emails_list_eg, close_mail_app=True)\n",
    "print(f\"Total emails deleted: {total_emails_count}\")"
   ]
  },
  {
   "cell_type": "code",
   "execution_count": null,
   "metadata": {},
   "outputs": [],
   "source": [
    "# import pytest"
   ]
  },
  {
   "cell_type": "code",
   "execution_count": null,
   "metadata": {},
   "outputs": [],
   "source": [
    "#     # ICloudCleaner raises an error if the config file path is invalid.\n",
    "\n",
    "# config_file = \"invalid_config.ini\"\n",
    "\n",
    "# def test_invalid_config_file_path():\n",
    "#     print()\n",
    "#     with pytest.raises(FileNotFoundError) as pyt_error:\n",
    "#         ICloudCleaner(config_file)"
   ]
  },
  {
   "cell_type": "code",
   "execution_count": null,
   "metadata": {},
   "outputs": [],
   "source": [
    "import subprocess"
   ]
  },
  {
   "cell_type": "code",
   "execution_count": null,
   "metadata": {},
   "outputs": [],
   "source": [
    "def is_mail_app_running():\n",
    "    try:\n",
    "        script = 'tell application \"System Events\" to (name of processes) contains \"Mail\"'\n",
    "        result = subprocess.run(\n",
    "            [\"osascript\", \"-e\", script], capture_output=True, text=True\n",
    "        )\n",
    "        return \"true\" in result.stdout.lower()\n",
    "    except Exception as e:\n",
    "        #logging.error\n",
    "        print(f\"Error checking if Mail app is running: {e}\")\n",
    "        return False"
   ]
  },
  {
   "cell_type": "code",
   "execution_count": null,
   "metadata": {},
   "outputs": [],
   "source": [
    "is_mail_app_running()"
   ]
  },
  {
   "cell_type": "code",
   "execution_count": null,
   "metadata": {},
   "outputs": [],
   "source": []
  }
 ],
 "metadata": {
  "kernelspec": {
   "display_name": ".venv",
   "language": "python",
   "name": "python3"
  },
  "language_info": {
   "codemirror_mode": {
    "name": "ipython",
    "version": 3
   },
   "file_extension": ".py",
   "mimetype": "text/x-python",
   "name": "python",
   "nbconvert_exporter": "python",
   "pygments_lexer": "ipython3",
   "version": "3.11.7"
  }
 },
 "nbformat": 4,
 "nbformat_minor": 2
}
