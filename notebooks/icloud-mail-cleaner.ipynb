{
 "cells": [
  {
   "cell_type": "code",
   "execution_count": null,
   "metadata": {},
   "outputs": [],
   "source": [
    "from pathlib import Path\n",
    "\n",
    "from notebook_helper import notebook_add_parent_dir_to_path\n",
    "\n",
    "notebook_add_parent_dir_to_path()\n",
    "\n",
    "from src.icloud_mail_cleaner.icloud_mail_cleaner import ICloudCleaner"
   ]
  },
  {
   "cell_type": "code",
   "execution_count": null,
   "metadata": {},
   "outputs": [],
   "source": [
    "# Ensure the configuration file is available\n",
    "\n",
    "CONFIG_FILE = Path.cwd().parent / \"config.ini\"\n",
    "assert CONFIG_FILE.exists()"
   ]
  },
  {
   "cell_type": "markdown",
   "metadata": {},
   "source": [
    "### Mathod 1: Using a file of email addresses\n",
    "\n",
    "`target_emails_file` is defined within `config.ini`"
   ]
  },
  {
   "cell_type": "code",
   "execution_count": null,
   "metadata": {},
   "outputs": [],
   "source": [
    "# Use file based approach - should pass the filename as an argument\n",
    "\n",
    "cleaner = ICloudCleaner(CONFIG_FILE.as_posix(), mode=\"notebook\", log_level=\"WARNING\")\n",
    "total_emails_deleted = cleaner.clean_mailbox(close_mail_app=True)\n",
    "print(f\"Total emails deleted: {total_emails_deleted}\")"
   ]
  },
  {
   "cell_type": "markdown",
   "metadata": {},
   "source": [
    "### Method 2: Using a list of email addresses"
   ]
  },
  {
   "cell_type": "code",
   "execution_count": null,
   "metadata": {},
   "outputs": [],
   "source": [
    "# Clean by passing a list of email addresses (instead of file)\n",
    "\n",
    "example_emails_list = [\n",
    "    \"promotions@puregelato.com.au\",\n",
    "    \"email_at_newsletter_bonappetit_com_5k4pp4p98z2982_e79f1277@icloud.com\",\n",
    "    \"promotions@puregelato.com.au\",\n",
    "    \"iq@adma.com.au\",\n",
    "]\n",
    "\n",
    "cleaner = ICloudCleaner(CONFIG_FILE.as_posix(), mode=\"notebook\")\n",
    "total_emails_deleted = cleaner.clean_mailbox(close_mail_app=True, target_emails=example_emails_list)\n",
    "print(f\"Total emails deleted: {total_emails_deleted}\")"
   ]
  },
  {
   "cell_type": "code",
   "execution_count": null,
   "metadata": {},
   "outputs": [],
   "source": [
    "# TODO: Add some test cases using pytest"
   ]
  },
  {
   "cell_type": "code",
   "execution_count": null,
   "metadata": {},
   "outputs": [],
   "source": []
  }
 ],
 "metadata": {
  "kernelspec": {
   "display_name": ".venv",
   "language": "python",
   "name": "python3"
  },
  "language_info": {
   "codemirror_mode": {
    "name": "ipython",
    "version": 3
   },
   "file_extension": ".py",
   "mimetype": "text/x-python",
   "name": "python",
   "nbconvert_exporter": "python",
   "pygments_lexer": "ipython3",
   "version": "3.11.7"
  }
 },
 "nbformat": 4,
 "nbformat_minor": 2
}
