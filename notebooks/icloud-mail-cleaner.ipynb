{
 "cells": [
  {
   "cell_type": "code",
   "execution_count": 1,
   "metadata": {},
   "outputs": [
    {
     "name": "stdout",
     "output_type": "stream",
     "text": [
      "Added parent directory /Users/mjboothaus/code/github/mjboothaus/iCloud-mail-cleaner to PYTHONPATH\n"
     ]
    },
    {
     "name": "stderr",
     "output_type": "stream",
     "text": [
      "/Users/mjboothaus/code/github/mjboothaus/iCloud-mail-cleaner/src/icloud_mail_cleaner/icloud_mail_cleaner.py:15: TqdmExperimentalWarning: Using `tqdm.autonotebook.tqdm` in notebook mode. Use `tqdm.tqdm` instead to force console mode (e.g. in jupyter console)\n",
      "  from tqdm.autonotebook import tqdm\n"
     ]
    }
   ],
   "source": [
    "import sys\n",
    "from pathlib import Path\n",
    "\n",
    "from loguru import logger\n",
    "from notebook_helper import notebook_add_parent_dir_to_path\n",
    "\n",
    "notebook_add_parent_dir_to_path()\n",
    "\n",
    "from src.icloud_mail_cleaner.icloud_mail_cleaner import ICloudCleaner"
   ]
  },
  {
   "cell_type": "code",
   "execution_count": 2,
   "metadata": {},
   "outputs": [
    {
     "data": {
      "text/plain": [
       "1"
      ]
     },
     "execution_count": 2,
     "metadata": {},
     "output_type": "execute_result"
    }
   ],
   "source": [
    "logger.remove()  # Remove default handlers\n",
    "logger.add(sys.stderr, level=\"WARNING\")  # Set the desired log level"
   ]
  },
  {
   "cell_type": "code",
   "execution_count": 3,
   "metadata": {},
   "outputs": [],
   "source": [
    "# Ensure the configuration file is available\n",
    "\n",
    "CONFIG_FILE = Path.cwd().parent / \"config.ini\"\n",
    "assert CONFIG_FILE.exists()"
   ]
  },
  {
   "cell_type": "markdown",
   "metadata": {},
   "source": [
    "### Method 1: Using a file of email addresses\n",
    "\n",
    "`target_emails_file` is defined within `config.ini`"
   ]
  },
  {
   "cell_type": "code",
   "execution_count": null,
   "metadata": {},
   "outputs": [
    {
     "name": "stdout",
     "output_type": "stream",
     "text": [
      "Total emails deleted across all addresses: 0\n"
     ]
    }
   ],
   "source": [
    "# Use config file based approach\n",
    "\n",
    "cleaner = ICloudCleaner(str(CONFIG_FILE), mode=\"notebook\")\n",
    "deletion_results = cleaner.clean_mailbox(close_mail_app=True)\n",
    "\n",
    "total_deletions = sum(result['deleted'] for result in deletion_results)\n",
    "print(f\"Total emails deleted across all addresses: {total_deletions}\")"
   ]
  },
  {
   "cell_type": "markdown",
   "metadata": {},
   "source": [
    "### Method 2: Using a list of email addresses"
   ]
  },
  {
   "cell_type": "code",
   "execution_count": 11,
   "metadata": {},
   "outputs": [
    {
     "data": {
      "application/vnd.jupyter.widget-view+json": {
       "model_id": "b291b06231e94153ae95e021d8ba9f0e",
       "version_major": 2,
       "version_minor": 0
      },
      "text/plain": [
       "Overall progress:   0%|          | 0/16 [00:00<?, ?it/s]"
      ]
     },
     "metadata": {},
     "output_type": "display_data"
    },
    {
     "name": "stdout",
     "output_type": "stream",
     "text": [
      "Total emails deleted across all addresses: 0\n"
     ]
    }
   ],
   "source": [
    "# Clean by passing a list of email addresses (instead of file)\n",
    "\n",
    "example_emails_list = [\n",
    "    \"telegrapheditor@emails.telegraph.co.uk\",\n",
    "    \"ae-news-interest06@mail.aliexpress.com\",\n",
    "    \"promotion@aliexpress.com\",\n",
    "    \"ae-trigger04.a4@deals.aliexpress.com\",\n",
    "    \"ae-news.a2@deals.aliexpress.com\",\n",
    "    \"ae-news.a3@deals.aliexpress.com\",\n",
    "    \"ae-news.a4@deals.aliexpress.com\",\n",
    "    \"ae-news.a5@deals.aliexpress.com\",\n",
    "    \"ae-news.a6@deals.aliexpress.com\",\n",
    "    \"ae-news.a7@deals.aliexpress.com\",\n",
    "    \"contactus@marketing.adma.com.au\",\n",
    "    \"no-reply@promo.airasia.com\",\n",
    "    \"info-buyer18.g@mail.aliexpress.com\",\n",
    "    \"info-buyer18.g@mail.aliexpress.com\",\n",
    "    \"news.all@mail.all.com\",\n",
    "    \"linkedin@e.linkedin.com\",\n",
    "]\n",
    "\n",
    "cleaner = ICloudCleaner(str(CONFIG_FILE), mode=\"notebook\")\n",
    "deletion_results = cleaner.clean_mailbox(close_mail_app=True, target_emails=example_emails_list)\n",
    "\n",
    "total_deletions = sum(result['deleted'] for result in deletion_results)\n",
    "print(f\"Total emails deleted across all addresses: {total_deletions}\")"
   ]
  },
  {
   "cell_type": "code",
   "execution_count": null,
   "metadata": {},
   "outputs": [],
   "source": []
  }
 ],
 "metadata": {
  "kernelspec": {
   "display_name": ".venv",
   "language": "python",
   "name": "python3"
  },
  "language_info": {
   "codemirror_mode": {
    "name": "ipython",
    "version": 3
   },
   "file_extension": ".py",
   "mimetype": "text/x-python",
   "name": "python",
   "nbconvert_exporter": "python",
   "pygments_lexer": "ipython3",
   "version": "3.13.5"
  }
 },
 "nbformat": 4,
 "nbformat_minor": 2
}
