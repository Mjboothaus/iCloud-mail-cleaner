{
 "cells": [
  {
   "cell_type": "code",
   "execution_count": null,
   "metadata": {},
   "outputs": [],
   "source": [
    "import sys\n",
    "from pathlib import Path\n",
    "\n",
    "from loguru import logger\n",
    "from notebook_helper import notebook_add_parent_dir_to_path\n",
    "\n",
    "notebook_add_parent_dir_to_path()\n",
    "\n",
    "from src.icloud_mail_cleaner.icloud_mail_cleaner import ICloudCleaner"
   ]
  },
  {
   "cell_type": "code",
   "execution_count": null,
   "metadata": {},
   "outputs": [],
   "source": [
    "logger.remove()  # Remove default handlers\n",
    "logger.add(sys.stderr, level=\"WARNING\")  # Set the desired log level"
   ]
  },
  {
   "cell_type": "code",
   "execution_count": 3,
   "metadata": {},
   "outputs": [],
   "source": [
    "# Ensure the configuration file is available\n",
    "\n",
    "CONFIG_FILE = Path.cwd().parent / \"config.ini\"\n",
    "assert CONFIG_FILE.exists()"
   ]
  },
  {
   "cell_type": "markdown",
   "metadata": {},
   "source": [
    "### Method 1: Using a file of email addresses\n",
    "\n",
    "`target_emails_file` is defined within `config.ini`"
   ]
  },
  {
   "cell_type": "code",
   "execution_count": null,
   "metadata": {},
   "outputs": [],
   "source": [
    "# Use file based approach - should pass the filename as an argument\n",
    "\n",
    "cleaner = ICloudCleaner(str(CONFIG_FILE), mode=\"notebook\")\n",
    "deletion_results = cleaner.clean_mailbox(close_mail_app=True)\n",
    "\n",
    "total_deletions = sum(count for _, count in deletion_results)\n",
    "print(f\"Total emails deleted across all addresses: {total_deletions}\")"
   ]
  },
  {
   "cell_type": "markdown",
   "metadata": {},
   "source": [
    "### Method 2: Using a list of email addresses"
   ]
  },
  {
   "cell_type": "code",
   "execution_count": null,
   "metadata": {},
   "outputs": [],
   "source": [
    "# Clean by passing a list of email addresses (instead of file)\n",
    "\n",
    "example_emails_list = [\n",
    "    \"hello@mail.sheridanoutlet.com.au\",\n",
    "    \"sales@horgans.com.au\",\n",
    "    \"promotions@puregelato.com.au\",\n",
    "    \"email_at_newsletter_bonappetit_com_5k4pp4p98z2982_e79f1277@icloud.com\",\n",
    "    \"promotions@puregelato.com.au\",\n",
    "    \"iq@adma.com.au\",\n",
    "]\n",
    "\n",
    "cleaner = ICloudCleaner(str(CONFIG_FILE), mode=\"notebook\")\n",
    "deletion_results = cleaner.clean_mailbox(close_mail_app=True, target_emails=example_emails_list)\n",
    "\n",
    "total_deletions = sum(count for _, count in deletion_results)\n",
    "print(f\"Total emails deleted across all addresses: {total_deletions}\")\n"
   ]
  },
  {
   "cell_type": "code",
   "execution_count": null,
   "metadata": {},
   "outputs": [],
   "source": []
  }
 ],
 "metadata": {
  "kernelspec": {
   "display_name": ".venv",
   "language": "python",
   "name": "python3"
  },
  "language_info": {
   "codemirror_mode": {
    "name": "ipython",
    "version": 3
   },
   "file_extension": ".py",
   "mimetype": "text/x-python",
   "name": "python",
   "nbconvert_exporter": "python",
   "pygments_lexer": "ipython3",
   "version": "3.11.10"
  }
 },
 "nbformat": 4,
 "nbformat_minor": 2
}
