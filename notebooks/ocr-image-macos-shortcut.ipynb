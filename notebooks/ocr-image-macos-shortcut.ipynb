{
 "cells": [
  {
   "cell_type": "markdown",
   "metadata": {},
   "source": [
    "## Using macOS OCR to extract text from images\n",
    "\n",
    "Credit: https://blog.greg.technology/2024/01/02/how-do-you-ocr-on-a-mac.html\n",
    "\n",
    "`TODO: Where is the shortcut stored and how - plain text?`\n",
    "\n",
    "`TODO: Move this to somewhere appropriate.`"
   ]
  },
  {
   "cell_type": "code",
   "execution_count": 1,
   "metadata": {},
   "outputs": [],
   "source": [
    "import subprocess\n",
    "from pathlib import Path\n",
    "from pprint import pprint"
   ]
  },
  {
   "cell_type": "code",
   "execution_count": 2,
   "metadata": {},
   "outputs": [],
   "source": [
    "#TODO: Check on mac and that shortcut exists\n",
    "\n",
    "def ocr_image_mac_shortcut(file_path):\n",
    "    if not Path(file_path).exists():\n",
    "        raise FileNotFoundError(f\"{file_path} not found\")\n",
    "    OCR_SHORTCUT = f\"shortcuts run ocr-text-from-image -i '{file_path}'\"\n",
    "    try:\n",
    "        ocr_text = subprocess.check_output(OCR_SHORTCUT, shell=True)\n",
    "    except Exception:\n",
    "        raise ValueError(\"Likely Problem with shortcut\")\n",
    "    return ocr_text"
   ]
  },
  {
   "cell_type": "code",
   "execution_count": 5,
   "metadata": {},
   "outputs": [],
   "source": [
    "TEST_IMAGE = \"/Users/mjboothaus/Desktop/Screenshot 2024-01-05 at 1.25.14 pm.png\""
   ]
  },
  {
   "cell_type": "code",
   "execution_count": 8,
   "metadata": {},
   "outputs": [],
   "source": [
    "ocr_text = ocr_image_mac_shortcut(TEST_IMAGE)"
   ]
  },
  {
   "cell_type": "code",
   "execution_count": 10,
   "metadata": {},
   "outputs": [
    {
     "name": "stdout",
     "output_type": "stream",
     "text": [
      "(b'DataBooth y\\n\\xe2\\x80\\xa2 SynDS - Synology\\n\\xc2\\xa9 DataB.\\nP CLIRe..'\n",
      " b'.\\n\\xe2\\x80\\xa2 Addin..\\n\\xef\\xa3\\xbf iCloud \\xc2\\xa9 GH: DataBooth\\nOpen..'\n",
      " b'\\nX\\n4) DPC A QantasFF o How T...\\n. httos: ...\\nlocalhost:8502\\n@ StudyL'\n",
      " b'ight L Book Lists ~ L News ~ W Wikipedia \\xc2\\xa9 GitHub - donn... X defau'\n",
      " b'lts.\\n\\xc2\\xa9 ResuL.\\n(T) Texts I...\\n\\xc2\\xa9 basict...\\n\\xc2\\xa9 Howt.\\n'\n",
      " b'\\xc2\\xa9 ReSULL.\\n+\\nWelcome to MacBook Air\\n\\xc2\\xa9 Christi\\nG how d..'\n",
      " b'.\\nDeploy\\nMain\\nRender JSON Resume\\nEdit LaTeX on Overleaf\\nFAO\\nTemplate'\n",
      " b' Gallery\\nResuLLMe @star\\n137\\nWelcome to ResuLLMe! Drop your previous CV b'\n",
      " b'elow, select one of the templates, and let the LLMs generate your resume for'\n",
      " b' you\\nChoose a file\\nDrag and drop file here\\nLimit 200MB per file '\n",
      " b'\\xe2\\x80\\xa2 PDF, DOCX, TXT, JSON\\nBrowse files\\nNone\\nPlease upload a file '\n",
      " b'to get started.')\n"
     ]
    }
   ],
   "source": [
    "pprint(ocr_text)"
   ]
  },
  {
   "cell_type": "code",
   "execution_count": null,
   "metadata": {},
   "outputs": [],
   "source": []
  }
 ],
 "metadata": {
  "kernelspec": {
   "display_name": ".venv",
   "language": "python",
   "name": "python3"
  },
  "language_info": {
   "codemirror_mode": {
    "name": "ipython",
    "version": 3
   },
   "file_extension": ".py",
   "mimetype": "text/x-python",
   "name": "python",
   "nbconvert_exporter": "python",
   "pygments_lexer": "ipython3",
   "version": "3.11.7"
  }
 },
 "nbformat": 4,
 "nbformat_minor": 2
}
